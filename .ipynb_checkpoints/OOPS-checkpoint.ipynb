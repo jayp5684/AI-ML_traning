{
 "cells": [
  {
   "cell_type": "markdown",
   "id": "44a90941",
   "metadata": {},
   "source": [
    "# object oriented programming\n"
   ]
  },
  {
   "cell_type": "code",
   "execution_count": 19,
   "id": "3474ac6f",
   "metadata": {},
   "outputs": [],
   "source": [
    "#creating the python class and assigining the attributes/objects to it\n",
    "class myclass:#created a class named myclass\n",
    "    number = 0#assigning attributes to the class\n",
    "    name = \"noname\"\n",
    "def main():\n",
    "    me = myclass()#created an object me in myclass\n",
    "    me.number(1007)\n",
    "    me.name = \"jay patel\"\n",
    "    \n",
    "\n",
    "    \n",
    " "
   ]
  },
  {
   "cell_type": "code",
   "execution_count": 13,
   "id": "b24150f7",
   "metadata": {},
   "outputs": [
    {
     "name": "stdout",
     "output_type": "stream",
     "text": [
      "i5,16gb,512gb\n",
      "i7,32gb,1tb\n"
     ]
    }
   ],
   "source": [
    "#object oriented programming in python\n",
    "class computer: #defining a class \n",
    "    def config(self):   #defining attribute 1\n",
    "        print(\"i5,16gb,512gb\")\n",
    "    def config2(self):  #defining attribute 2 \n",
    "        print(\"i7,32gb,1tb\")\n",
    "        \n",
    "com1 = computer()#defining object1 in class\n",
    "com2 = computer()#defining object2 in class\n",
    "computer.config(com1)  #assigning attribute1 to class1\n",
    "computer.config2(com2) #assigning attribute2 to class2"
   ]
  },
  {
   "cell_type": "code",
   "execution_count": 21,
   "id": "024ffc45",
   "metadata": {},
   "outputs": [
    {
     "name": "stdout",
     "output_type": "stream",
     "text": [
      "config is i3,and ram is32\n",
      "config is i5,and ram is16\n"
     ]
    }
   ],
   "source": [
    "class computer:\n",
    "    def __init__(self,cpu,ram):\n",
    "        self.cpu = cpu\n",
    "        self.ram = ram\n",
    "        \n",
    "    def config(self):\n",
    "        print(f\"config is {self.cpu},and ram is{self.ram}\")\n",
    "        \n",
    "com1 = computer('i3',32)\n",
    "com2 = computer('i5',16)\n",
    "\n",
    "com1.config()\n",
    "com2.config()"
   ]
  },
  {
   "cell_type": "code",
   "execution_count": null,
   "id": "aa5fa471",
   "metadata": {},
   "outputs": [],
   "source": []
  }
 ],
 "metadata": {
  "kernelspec": {
   "display_name": "Python 3 (ipykernel)",
   "language": "python",
   "name": "python3"
  },
  "language_info": {
   "codemirror_mode": {
    "name": "ipython",
    "version": 3
   },
   "file_extension": ".py",
   "mimetype": "text/x-python",
   "name": "python",
   "nbconvert_exporter": "python",
   "pygments_lexer": "ipython3",
   "version": "3.7.16"
  }
 },
 "nbformat": 4,
 "nbformat_minor": 5
}
