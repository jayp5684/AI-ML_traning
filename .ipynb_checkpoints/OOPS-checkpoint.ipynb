{
 "cells": [
  {
   "cell_type": "markdown",
   "id": "15741d6e",
   "metadata": {},
   "source": [
    "# object oriented programming\n"
   ]
  },
  {
   "cell_type": "code",
   "execution_count": 19,
   "id": "b582d623",
   "metadata": {},
   "outputs": [],
   "source": [
    "#creating the python class and assigining the attributes/objects to it\n",
    "class myclass:#created a class named myclass\n",
    "    number = 0#assigning attributes to the class\n",
    "    name = \"noname\"\n",
    "def main():\n",
    "    me = myclass()#created an object me in myclass\n",
    "    me.number(1007)\n",
    "    me.name = \"jay patel\"\n",
    "    \n",
    "\n",
    "    \n",
    " "
   ]
  },
  {
   "cell_type": "code",
   "execution_count": 13,
   "id": "4b867d87",
   "metadata": {},
   "outputs": [
    {
     "name": "stdout",
     "output_type": "stream",
     "text": [
      "i5,16gb,512gb\n",
      "i7,32gb,1tb\n"
     ]
    }
   ],
   "source": [
    "#object oriented programming in python\n",
    "class computer: #defining a class \n",
    "    def config(self):   #defining attribute 1\n",
    "        print(\"i5,16gb,512gb\")\n",
    "    def config2(self):  #defining attribute 2 \n",
    "        print(\"i7,32gb,1tb\")\n",
    "        \n",
    "com1 = computer()#defining object1 in class\n",
    "com2 = computer()#defining object2 in class\n",
    "computer.config(com1)  #assigning attribute1 to class1\n",
    "computer.config2(com2) #assigning attribute2 to class2"
   ]
  },
  {
   "cell_type": "code",
   "execution_count": 21,
   "id": "d168a1c2",
   "metadata": {},
   "outputs": [
    {
     "name": "stdout",
     "output_type": "stream",
     "text": [
      "config is i3,and ram is32\n",
      "config is i5,and ram is16\n"
     ]
    }
   ],
   "source": [
    "class computer:\n",
    "    def __init__(self,cpu,ram):\n",
    "        self.cpu = cpu\n",
    "        self.ram = ram\n",
    "        \n",
    "    def config(self):\n",
    "        print(f\"config is {self.cpu},and ram is{self.ram}\")\n",
    "        \n",
    "com1 = computer('i3',32)\n",
    "com2 = computer('i5',16)\n",
    "\n",
    "com1.config()\n",
    "com2.config()"
   ]
  },
  {
   "cell_type": "code",
   "execution_count": 22,
   "id": "9e93e5c5",
   "metadata": {},
   "outputs": [
    {
     "name": "stdout",
     "output_type": "stream",
     "text": [
      "the marks are 77\n"
     ]
    }
   ],
   "source": [
    "class students:\n",
    "    def marks(self):\n",
    "        mks = 77\n",
    "        print(f\"the marks are {mks}\")\n",
    "    \n",
    "student1 = students()\n",
    "\n",
    "students.marks(student1)"
   ]
  },
  {
   "cell_type": "code",
   "execution_count": 9,
   "id": "a016979b",
   "metadata": {},
   "outputs": [
    {
     "name": "stdout",
     "output_type": "stream",
     "text": [
      "10 ckcd 3\n",
      "12 fss\n"
     ]
    }
   ],
   "source": [
    "# types of variables in python \n",
    "# instance variable :-\n",
    "# class variables :-\n",
    "\n",
    "class cars:\n",
    "    \n",
    "    wheels = 4  #class variable\n",
    "    \n",
    "    def __init__(self):\n",
    "        self.mil = 10     #instamce variable\n",
    "        self.co = \"ckcd\"   #instamce variable\n",
    "        \n",
    "c1 = cars()\n",
    "c2 = cars()\n",
    "\n",
    "c2.mil = 12\n",
    "c2.co = \"fss\"\n",
    "\n",
    "cars.wheels = 3\n",
    "print(c1.mil,c1.co,c1.wheels)\n",
    "print(c2.mil,c2.co)\n",
    "        \n",
    "        "
   ]
  },
  {
   "cell_type": "code",
   "execution_count": 41,
   "id": "8ab5ccf3",
   "metadata": {},
   "outputs": [
    {
     "name": "stdout",
     "output_type": "stream",
     "text": [
      "gds\n",
      "25.0\n"
     ]
    },
    {
     "ename": "NameError",
     "evalue": "name 'get_m1' is not defined",
     "output_type": "error",
     "traceback": [
      "\u001b[1;31m---------------------------------------------------------------------------\u001b[0m",
      "\u001b[1;31mNameError\u001b[0m                                 Traceback (most recent call last)",
      "\u001b[1;32m~\\AppData\\Local\\Temp\\ipykernel_18800\\97577183.py\u001b[0m in \u001b[0;36m<module>\u001b[1;34m\u001b[0m\n\u001b[0;32m     27\u001b[0m \u001b[0mprint\u001b[0m\u001b[1;33m(\u001b[0m\u001b[0ms1\u001b[0m\u001b[1;33m.\u001b[0m\u001b[0mavg\u001b[0m\u001b[1;33m(\u001b[0m\u001b[1;33m)\u001b[0m\u001b[1;33m)\u001b[0m\u001b[1;33m\u001b[0m\u001b[1;33m\u001b[0m\u001b[0m\n\u001b[0;32m     28\u001b[0m \u001b[1;33m\u001b[0m\u001b[0m\n\u001b[1;32m---> 29\u001b[1;33m \u001b[0mget_m1\u001b[0m\u001b[1;33m(\u001b[0m\u001b[1;33m)\u001b[0m\u001b[1;33m\u001b[0m\u001b[1;33m\u001b[0m\u001b[0m\n\u001b[0m",
      "\u001b[1;31mNameError\u001b[0m: name 'get_m1' is not defined"
     ]
    }
   ],
   "source": [
    "# types of methords in oops \n",
    "#instance method\n",
    "#class method\n",
    "#static method\n",
    "class students:\n",
    "    school = \"gds\"\n",
    "    \n",
    "    def __init__(self,m1,m2,m3):\n",
    "        self.m1 = m1\n",
    "        self.m2 = m2\n",
    "        self.m3 = m3\n",
    "        \n",
    "    def avg(self):\n",
    "        return (self.m1+self.m2+self.m3)/3\n",
    "    \n",
    "    def get_m1(self):\n",
    "        return self.m1\n",
    "    \n",
    "    def set_m1(self,value):\n",
    "        return self.ml = value\n",
    "\n",
    "    \n",
    "s1 = students(23,25,27)\n",
    "s2 = students(22,21,24)\n",
    "\n",
    "print(s1.school)\n",
    "print(s1.avg())\n",
    "\n",
    "get_m1()"
   ]
  },
  {
   "cell_type": "code",
   "execution_count": 34,
   "id": "f40378ac",
   "metadata": {},
   "outputs": [
    {
     "name": "stdout",
     "output_type": "stream",
     "text": [
      "38.0\n",
      "sgs\n"
     ]
    }
   ],
   "source": [
    "class students :\n",
    "    school = \"sgs\"\n",
    "    def __init__(self,m1,m2,m3):\n",
    "        self.m1 = m1\n",
    "        self.m2 = m2\n",
    "        self.m3 = m3\n",
    "       \n",
    "    def avg(self):\n",
    "        return (self.m1+self.m2+self.m3)/3\n",
    "    \n",
    "    @classmethod\n",
    "    def info(cls):\n",
    "        return (cls.school)\n",
    "\n",
    "s1 = students(23,33,45)\n",
    "s1 = students(23,44,47)\n",
    "\n",
    "print(s1.avg())\n",
    "print(students.info())"
   ]
  },
  {
   "cell_type": "code",
   "execution_count": null,
   "id": "b4723c8d",
   "metadata": {},
   "outputs": [],
   "source": [
    "        \n"
   ]
  }
 ],
 "metadata": {
  "kernelspec": {
   "display_name": "Python 3 (ipykernel)",
   "language": "python",
   "name": "python3"
  },
  "language_info": {
   "codemirror_mode": {
    "name": "ipython",
    "version": 3
   },
   "file_extension": ".py",
   "mimetype": "text/x-python",
   "name": "python",
   "nbconvert_exporter": "python",
   "pygments_lexer": "ipython3",
   "version": "3.7.16"
  }
 },
 "nbformat": 4,
 "nbformat_minor": 5
}
