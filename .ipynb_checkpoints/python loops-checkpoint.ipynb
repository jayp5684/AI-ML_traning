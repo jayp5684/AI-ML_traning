{
 "cells": [
  {
   "cell_type": "markdown",
   "id": "ee12f6b0",
   "metadata": {},
   "source": [
    "# loops "
   ]
  },
  {
   "cell_type": "code",
   "execution_count": 2,
   "id": "221a9346",
   "metadata": {},
   "outputs": [
    {
     "name": "stdout",
     "output_type": "stream",
     "text": [
      "1\n",
      "2\n",
      "3\n"
     ]
    }
   ],
   "source": [
    "#while loop\n",
    "count = 0\n",
    "while (count < 3):\n",
    "    count += 1\n",
    "    print(count)"
   ]
  },
  {
   "cell_type": "code",
   "execution_count": 9,
   "id": "ee151652",
   "metadata": {},
   "outputs": [
    {
     "name": "stdout",
     "output_type": "stream",
     "text": [
      "0\n",
      "1\n",
      "2\n",
      "3\n",
      "4\n",
      "5\n"
     ]
    }
   ],
   "source": [
    "#for loop\n",
    "n = 6\n",
    "for i in range(0,n):\n",
    "    print(i)"
   ]
  },
  {
   "cell_type": "code",
   "execution_count": 14,
   "id": "7e6af36c",
   "metadata": {},
   "outputs": [
    {
     "name": "stdout",
     "output_type": "stream",
     "text": [
      "jay\n",
      "kk\n",
      "pp\n"
     ]
    }
   ],
   "source": [
    "#itterating print using for loop\n",
    "l=['jay','kk','pp']\n",
    "for i in l:\n",
    "    print(i)"
   ]
  },
  {
   "cell_type": "code",
   "execution_count": 15,
   "id": "8635dd0e",
   "metadata": {},
   "outputs": [
    {
     "name": "stdout",
     "output_type": "stream",
     "text": [
      "ww\n",
      "jp\n",
      "pp\n"
     ]
    }
   ],
   "source": [
    "#itterating tuples\n",
    "t=('ww','jp','pp')\n",
    "for i in t:\n",
    "    print(i)"
   ]
  },
  {
   "cell_type": "code",
   "execution_count": 24,
   "id": "6b39fd5a",
   "metadata": {},
   "outputs": [
    {
     "name": "stdout",
     "output_type": "stream",
     "text": [
      "xyz,123\n",
      "abc,345\n"
     ]
    }
   ],
   "source": [
    "#itterating dictionary\n",
    "d = dict()\n",
    "d['xyz'] = 123\n",
    "d['abc'] = 345\n",
    "for i in d:\n",
    "    #print(\"%s  %d\" % (i, d[i]))\n",
    "    print(f\"{i},{d[i]}\")"
   ]
  },
  {
   "cell_type": "code",
   "execution_count": 32,
   "id": "6c46656d",
   "metadata": {},
   "outputs": [
    {
     "name": "stdout",
     "output_type": "stream",
     "text": [
      "Ai\n",
      "is\n",
      "awsome\n"
     ]
    }
   ],
   "source": [
    "#itterating by index\n",
    "list = [\"Ai\", \"is\", \"awsome\"]\n",
    "for index in range(len(list)):\n",
    "    print(list[index])"
   ]
  },
  {
   "cell_type": "code",
   "execution_count": 35,
   "id": "df221b64",
   "metadata": {},
   "outputs": [
    {
     "name": "stdout",
     "output_type": "stream",
     "text": [
      "jj\n",
      "jk\n",
      "pp\n",
      "rp\n",
      "else block\n"
     ]
    }
   ],
   "source": [
    "#combining for with else \n",
    "list = ['jj','jk','pp','rp']\n",
    "for index in range(len(list)):\n",
    "    print(list[index])\n",
    "else:\n",
    "        print('else block')"
   ]
  },
  {
   "cell_type": "code",
   "execution_count": 41,
   "id": "db752130",
   "metadata": {},
   "outputs": [
    {
     "name": "stdout",
     "output_type": "stream",
     "text": [
      "1\n",
      "22\n",
      "333\n",
      "4444\n"
     ]
    }
   ],
   "source": [
    "# nested loop in python \n",
    "for i in range(1,5):\n",
    "    for j in range(i):\n",
    "        print(i, end= '')\n",
    "    print()"
   ]
  },
  {
   "cell_type": "code",
   "execution_count": null,
   "id": "63e36bec",
   "metadata": {},
   "outputs": [],
   "source": [
    "#printing paterns \n",
    "for i  in range (4):\n",
    "    for j in range (5):\n",
    "        print('#',end\"\")\n",
    "    print()"
   ]
  },
  {
   "cell_type": "code",
   "execution_count": null,
   "id": "dc853ba5",
   "metadata": {},
   "outputs": [],
   "source": []
  }
 ],
 "metadata": {
  "kernelspec": {
   "display_name": "Python 3 (ipykernel)",
   "language": "python",
   "name": "python3"
  },
  "language_info": {
   "codemirror_mode": {
    "name": "ipython",
    "version": 3
   },
   "file_extension": ".py",
   "mimetype": "text/x-python",
   "name": "python",
   "nbconvert_exporter": "python",
   "pygments_lexer": "ipython3",
   "version": "3.7.16"
  }
 },
 "nbformat": 4,
 "nbformat_minor": 5
}
