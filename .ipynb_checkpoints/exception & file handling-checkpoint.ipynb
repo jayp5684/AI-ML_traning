{
 "cells": [
  {
   "cell_type": "code",
   "execution_count": 3,
   "id": "acfda441",
   "metadata": {},
   "outputs": [
    {
     "name": "stdout",
     "output_type": "stream",
     "text": [
      "enter the first number:4\n",
      "enter the second number:0\n",
      "cannot perform the operation!!!\n",
      "thank you for using this program\n"
     ]
    }
   ],
   "source": [
    "a = int(input(\"enter the first number:\"))\n",
    "b = int(input(\"enter the second number:\"))\n",
    "try: \n",
    "    c = a/b\n",
    "    print(\"answer:\",c)\n",
    "    \n",
    "except:\n",
    "    print(\"cannot perform the operation!!!\")\n",
    "print('thank you for using this program')"
   ]
  },
  {
   "cell_type": "code",
   "execution_count": 19,
   "id": "8bed03ac",
   "metadata": {},
   "outputs": [
    {
     "name": "stdout",
     "output_type": "stream",
     "text": [
      "enter the number:gf\n",
      "can not perform the operation!!!\n"
     ]
    }
   ],
   "source": [
    "\n",
    "try:\n",
    "    a = int(input(\"enter the number:\"))\n",
    "    print(f\"the table of {a} is\")\n",
    "    for i in range(1,11):\n",
    "        print(f\"{int(a)} X {i} = {int(a)*i}\")\n",
    "except:\n",
    "    print(\"can not perform the operation!!!\")\n",
    "    \n",
    "    \n"
   ]
  },
  {
   "cell_type": "markdown",
   "id": "0c75589e",
   "metadata": {},
   "source": [
    "# file handling"
   ]
  },
  {
   "cell_type": "code",
   "execution_count": 8,
   "id": "af2e4b63",
   "metadata": {},
   "outputs": [
    {
     "name": "stdout",
     "output_type": "stream",
     "text": [
      "cdsc dfsdc\n"
     ]
    }
   ],
   "source": [
    "class computer:\n",
    "    \n",
    "    \n",
    "    def __init__(self,cpu,ram):\n",
    "        self.ram = ram\n",
    "        self.cpu = cpu\n",
    "    \n",
    "    def config(self):\n",
    "        print(self.cpu,self.ram)\n",
    "com1 = computer(\"cdsc\",\"dfsdc\")\n",
    "\n",
    "com1.config()\n",
    "        "
   ]
  },
  {
   "cell_type": "code",
   "execution_count": 1,
   "id": "d317ca1f",
   "metadata": {},
   "outputs": [
    {
     "data": {
      "text/plain": [
       "'C:\\\\Users\\\\Jay\\\\Desktop\\\\internship\\\\AI-ML_traning'"
      ]
     },
     "execution_count": 1,
     "metadata": {},
     "output_type": "execute_result"
    }
   ],
   "source": [
    "#importing os\n",
    "import os\n",
    "os.getcwd()#checking current directory"
   ]
  },
  {
   "cell_type": "code",
   "execution_count": 4,
   "id": "6f006457",
   "metadata": {},
   "outputs": [],
   "source": [
    "os.chdir('C:\\\\Users\\\\Jay\\\\Desktop\\\\internship\\\\data hamdling')# assigning new directrory"
   ]
  },
  {
   "cell_type": "code",
   "execution_count": 17,
   "id": "7efa6ab1",
   "metadata": {},
   "outputs": [
    {
     "name": "stdout",
     "output_type": "stream",
     "text": [
      "the assigned task is completed\n"
     ]
    }
   ],
   "source": [
    "f = open('file.txt','w')#creating a file in the newly assigned directory\n",
    "f.write('I m awsome')#writing function\n",
    "f.write('\\nnevertheless i still study.') #writing function\n",
    "f.close()\n",
    "print('the assigned task is completed')"
   ]
  },
  {
   "cell_type": "code",
   "execution_count": 18,
   "id": "9ebd1c24",
   "metadata": {},
   "outputs": [
    {
     "name": "stdout",
     "output_type": "stream",
     "text": [
      "the assigned task is completed\n"
     ]
    }
   ],
   "source": [
    "#appending text in python file\n",
    "with open('file.txt','a') as f:\n",
    "    f.write('\\nwork hard despite your intellect')\n",
    "    print('the assigned task is completed')"
   ]
  },
  {
   "cell_type": "code",
   "execution_count": 22,
   "id": "b0a200c7",
   "metadata": {},
   "outputs": [
    {
     "name": "stdout",
     "output_type": "stream",
     "text": [
      "I m awsome\n",
      "nevertheless i still study.\n",
      "work hard despite your intellect\n"
     ]
    }
   ],
   "source": [
    "#read ing the txt file\n",
    "with open('file.txt','r') as f:\n",
    "    pa = f.read()\n",
    "    print(pa)\n",
    "    "
   ]
  },
  {
   "cell_type": "code",
   "execution_count": 26,
   "id": "68991916",
   "metadata": {},
   "outputs": [
    {
     "name": "stdout",
     "output_type": "stream",
     "text": [
      "I m awsome\n",
      "nevertheless\n"
     ]
    }
   ],
   "source": [
    "#slicing the read command\n",
    "with open('file.txt','r') as f:\n",
    "    par = f.read(23)\n",
    "    print(par)\n",
    "    "
   ]
  },
  {
   "cell_type": "code",
   "execution_count": 25,
   "id": "80458e60",
   "metadata": {},
   "outputs": [
    {
     "name": "stdout",
     "output_type": "stream",
     "text": [
      "assigned task done\n"
     ]
    }
   ],
   "source": [
    "with open('file1.txt','x') as g:\n",
    "    g.write('one piece is real')\n",
    "    print('assigned task done')\n",
    "    "
   ]
  },
  {
   "cell_type": "code",
   "execution_count": 24,
   "id": "3060d7e0",
   "metadata": {},
   "outputs": [
    {
     "name": "stdout",
     "output_type": "stream",
     "text": [
      "file deleted\n"
     ]
    }
   ],
   "source": [
    "os.remove('file1.txt')\n",
    "print(\"file deleted\")"
   ]
  },
  {
   "cell_type": "code",
   "execution_count": null,
   "id": "c05b664c",
   "metadata": {},
   "outputs": [],
   "source": []
  }
 ],
 "metadata": {
  "kernelspec": {
   "display_name": "Python 3 (ipykernel)",
   "language": "python",
   "name": "python3"
  },
  "language_info": {
   "codemirror_mode": {
    "name": "ipython",
    "version": 3
   },
   "file_extension": ".py",
   "mimetype": "text/x-python",
   "name": "python",
   "nbconvert_exporter": "python",
   "pygments_lexer": "ipython3",
   "version": "3.7.16"
  }
 },
 "nbformat": 4,
 "nbformat_minor": 5
}
