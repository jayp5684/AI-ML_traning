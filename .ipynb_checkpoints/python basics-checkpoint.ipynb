{
 "cells": [
  {
   "cell_type": "markdown",
   "id": "276c1d3e",
   "metadata": {},
   "source": [
    "# python basics"
   ]
  },
  {
   "cell_type": "code",
   "execution_count": 2,
   "id": "22b65b6e",
   "metadata": {
    "scrolled": true
   },
   "outputs": [
    {
     "name": "stdout",
     "output_type": "stream",
     "text": [
      "hello i am jay\n"
     ]
    }
   ],
   "source": [
    "#printing a given string \n",
    "print('hello i am jay')"
   ]
  },
  {
   "cell_type": "code",
   "execution_count": 7,
   "id": "eb4f1554",
   "metadata": {},
   "outputs": [
    {
     "name": "stdout",
     "output_type": "stream",
     "text": [
      "JAY PATEL\n"
     ]
    }
   ],
   "source": [
    "#assigning values\n",
    "my_name = \"JAY PATEL\"\n",
    "print(my_name)\n"
   ]
  },
  {
   "cell_type": "code",
   "execution_count": 9,
   "id": "94f67e65",
   "metadata": {},
   "outputs": [],
   "source": [
    "#creating list & functions\n",
    "numbers =[1,2,3,5,]\n"
   ]
  },
  {
   "cell_type": "code",
   "execution_count": 10,
   "id": "626fa099",
   "metadata": {},
   "outputs": [
    {
     "name": "stdout",
     "output_type": "stream",
     "text": [
      "[1, 2, 3, 5]\n"
     ]
    }
   ],
   "source": [
    "print(numbers)"
   ]
  },
  {
   "cell_type": "code",
   "execution_count": 15,
   "id": "20a597d9",
   "metadata": {},
   "outputs": [
    {
     "name": "stdout",
     "output_type": "stream",
     "text": [
      "[1, 2, 3, 5, 6, 6, 6]\n"
     ]
    }
   ],
   "source": [
    "#appending value to list at the very end\n",
    "numbers.append(6)\n",
    "print (numbers)"
   ]
  },
  {
   "cell_type": "code",
   "execution_count": 18,
   "id": "dc016d46",
   "metadata": {},
   "outputs": [
    {
     "name": "stdout",
     "output_type": "stream",
     "text": [
      "{1: 'jay', 2: 'sanket', 3: 'prince', 4: 'rythm'}\n"
     ]
    }
   ],
   "source": [
    "#creating dictionaries in python\n",
    "employee = {1:'jay',2:'sanket',3:'prince',4:'rythm'}\n",
    "print(employee)"
   ]
  },
  {
   "cell_type": "code",
   "execution_count": 20,
   "id": "b7fd4335",
   "metadata": {},
   "outputs": [
    {
     "name": "stdout",
     "output_type": "stream",
     "text": [
      "('2', '4', 'jay')\n"
     ]
    }
   ],
   "source": [
    "#creating immutabe tuple ie.cant be modified\n",
    "tup = ('2','4','jay')\n",
    "print(tup)"
   ]
  },
  {
   "cell_type": "code",
   "execution_count": null,
   "id": "a98b6f71",
   "metadata": {},
   "outputs": [],
   "source": [
    "name = input('enter your name:')\n",
    "print(\"hello\", name)"
   ]
  },
  {
   "cell_type": "code",
   "execution_count": 12,
   "id": "50cb2125",
   "metadata": {},
   "outputs": [
    {
     "name": "stdout",
     "output_type": "stream",
     "text": [
      "jay1jay3\n",
      "the numbers are 1jay3\n",
      "jay 1\n"
     ]
    }
   ],
   "source": [
    "#python printing techniques\n",
    "a = 1\n",
    "b = 'jay'\n",
    "c = 3\n",
    "#fstring\n",
    "print(f'jay{a}{b}{c}')\n",
    "#format printing\n",
    "print(\"the numbers are {}{}{}\".format(a,b,c))\n",
    "# %printing:- %d is used for interger values amd %s is used for string value\n",
    "print(\"%s %d\" % (b,a))\n"
   ]
  },
  {
   "cell_type": "code",
   "execution_count": null,
   "id": "783ac863",
   "metadata": {},
   "outputs": [],
   "source": []
  },
  {
   "cell_type": "code",
   "execution_count": null,
   "id": "00939f5a",
   "metadata": {},
   "outputs": [],
   "source": []
  }
 ],
 "metadata": {
  "kernelspec": {
   "display_name": "Python 3 (ipykernel)",
   "language": "python",
   "name": "python3"
  },
  "language_info": {
   "codemirror_mode": {
    "name": "ipython",
    "version": 3
   },
   "file_extension": ".py",
   "mimetype": "text/x-python",
   "name": "python",
   "nbconvert_exporter": "python",
   "pygments_lexer": "ipython3",
   "version": "3.7.16"
  }
 },
 "nbformat": 4,
 "nbformat_minor": 5
}
