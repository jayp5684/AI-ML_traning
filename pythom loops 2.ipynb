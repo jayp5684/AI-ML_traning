{
 "cells": [
  {
   "cell_type": "code",
   "execution_count": 13,
   "id": "f75562dd",
   "metadata": {},
   "outputs": [
    {
     "name": "stdout",
     "output_type": "stream",
     "text": [
      "enter the number:3\n",
      "number is odd\n"
     ]
    }
   ],
   "source": [
    "#checking weather number is odd or even\n",
    "x=int(input('enter the number:'))\n",
    "if (x%2)==0:\n",
    "    print('the number is even')\n",
    "else:\n",
    "    print('number is odd')\n"
   ]
  },
  {
   "cell_type": "code",
   "execution_count": 39,
   "id": "02b3a6c0",
   "metadata": {},
   "outputs": [
    {
     "name": "stdout",
     "output_type": "stream",
     "text": [
      "@@@@\n",
      "@@@@\n",
      "@@@@\n",
      "@@@@\n"
     ]
    }
   ],
   "source": [
    "#printing patterns from python\n",
    "for i in range(4):\n",
    "    for j in range (4):\n",
    "        print('@',end=\"\")\n",
    "    print()"
   ]
  },
  {
   "cell_type": "code",
   "execution_count": 4,
   "id": "1612e8fd",
   "metadata": {},
   "outputs": [
    {
     "name": "stdout",
     "output_type": "stream",
     "text": [
      "1\n",
      "22\n",
      "333\n",
      "4444\n"
     ]
    }
   ],
   "source": [
    "#print python program\n",
    "for i in range (1,5):\n",
    "    for j in range(i):\n",
    "        print(i,end=\"\")\n",
    "    print()"
   ]
  },
  {
   "cell_type": "code",
   "execution_count": 14,
   "id": "8c51599a",
   "metadata": {},
   "outputs": [
    {
     "name": "stdout",
     "output_type": "stream",
     "text": [
      "0000\n",
      "1111\n",
      "2222\n"
     ]
    }
   ],
   "source": []
  },
  {
   "cell_type": "code",
   "execution_count": 9,
   "id": "385fe831",
   "metadata": {},
   "outputs": [
    {
     "name": "stdout",
     "output_type": "stream",
     "text": [
      "apple\n",
      "orange\n",
      "grape\n"
     ]
    }
   ],
   "source": [
    "fruits = ['apple','orange','grape']\n",
    "for fruit in fruits:\n",
    "    print(fruit)"
   ]
  },
  {
   "cell_type": "code",
   "execution_count": 19,
   "id": "5ae85d2e",
   "metadata": {},
   "outputs": [
    {
     "name": "stdout",
     "output_type": "stream",
     "text": [
      "[0, 3, 6, 9, 12, 15, 18, 21, 24, 27, 30, 33, 36, 39, 42, 45, 48, 51, 54, 57, 60, 63, 66, 69, 72, 75, 78, 81, 84, 87, 90, 93, 96, 99]\n"
     ]
    }
   ],
   "source": [
    "#making a list of multiples of three using list comprihension \n",
    "ls = [i for i in range(100) if i%3 ==0]\n",
    "print(ls)"
   ]
  },
  {
   "cell_type": "code",
   "execution_count": 22,
   "id": "f0edf9cc",
   "metadata": {},
   "outputs": [
    {
     "name": "stdout",
     "output_type": "stream",
     "text": [
      "{0: 'item 0', 1: 'item 1', 2: 'item 2', 3: 'item 3', 4: 'item 4', 5: 'item 5', 6: 'item 6', 7: 'item 7', 8: 'item 8', 9: 'item 9'}\n"
     ]
    }
   ],
   "source": [
    "#making a dictionary using list comprenshion\n",
    "dict1 = {i:f\"item {i}\"for i in range(10)}\n",
    "print(dict1)"
   ]
  },
  {
   "cell_type": "code",
   "execution_count": 25,
   "id": "e03fddbe",
   "metadata": {},
   "outputs": [
    {
     "name": "stdout",
     "output_type": "stream",
     "text": [
      "{'item 0': 0, 'item 1': 1, 'item 2': 2, 'item 3': 3, 'item 4': 4, 'item 5': 5, 'item 6': 6, 'item 7': 7, 'item 8': 8, 'item 9': 9}\n"
     ]
    }
   ],
   "source": [
    "#swaping the key and values using list comrehension\n",
    "dict1 = {value:key for key,value in dict1.items()}\n",
    "print(dict1)"
   ]
  },
  {
   "cell_type": "code",
   "execution_count": 26,
   "id": "6dc9db7d",
   "metadata": {},
   "outputs": [
    {
     "name": "stdout",
     "output_type": "stream",
     "text": [
      "1 \n",
      "2 2 \n",
      "3 3 3 \n",
      "4 4 4 4 \n"
     ]
    }
   ],
   "source": [
    "for i in range(1, 5):\n",
    "    for j in range(i):\n",
    "        print(i, end=' ')\n",
    "    print()"
   ]
  },
  {
   "cell_type": "code",
   "execution_count": 4,
   "id": "5cee76f3",
   "metadata": {},
   "outputs": [
    {
     "name": "stdout",
     "output_type": "stream",
     "text": [
      "0 jp\n",
      "1 np\n",
      "2 rp\n",
      "3 pp\n"
     ]
    }
   ],
   "source": [
    "#using enumarate \n",
    "for key, value in enumerate([\"jp\",\"np\",\"rp\",\"pp\"]):\n",
    "    print(key,value)"
   ]
  },
  {
   "cell_type": "code",
   "execution_count": null,
   "id": "abacf49a",
   "metadata": {},
   "outputs": [],
   "source": []
  }
 ],
 "metadata": {
  "kernelspec": {
   "display_name": "Python 3 (ipykernel)",
   "language": "python",
   "name": "python3"
  },
  "language_info": {
   "codemirror_mode": {
    "name": "ipython",
    "version": 3
   },
   "file_extension": ".py",
   "mimetype": "text/x-python",
   "name": "python",
   "nbconvert_exporter": "python",
   "pygments_lexer": "ipython3",
   "version": "3.7.16"
  }
 },
 "nbformat": 4,
 "nbformat_minor": 5
}
