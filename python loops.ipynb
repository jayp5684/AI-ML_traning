{
 "cells": [
  {
   "cell_type": "markdown",
   "id": "ee12f6b0",
   "metadata": {},
   "source": [
    "# loops "
   ]
  },
  {
   "cell_type": "code",
   "execution_count": null,
   "id": "221a9346",
   "metadata": {},
   "outputs": [],
   "source": [
    "#while loop\n",
    "count = 3\n",
    "while"
   ]
  }
 ],
 "metadata": {
  "kernelspec": {
   "display_name": "Python 3 (ipykernel)",
   "language": "python",
   "name": "python3"
  },
  "language_info": {
   "codemirror_mode": {
    "name": "ipython",
    "version": 3
   },
   "file_extension": ".py",
   "mimetype": "text/x-python",
   "name": "python",
   "nbconvert_exporter": "python",
   "pygments_lexer": "ipython3",
   "version": "3.7.16"
  }
 },
 "nbformat": 4,
 "nbformat_minor": 5
}
