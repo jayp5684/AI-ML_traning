{
 "cells": [
  {
   "cell_type": "markdown",
   "id": "21d7aabd",
   "metadata": {},
   "source": [
    "# python opertors"
   ]
  },
  {
   "cell_type": "code",
   "execution_count": 9,
   "id": "0c9934b2",
   "metadata": {},
   "outputs": [
    {
     "name": "stdout",
     "output_type": "stream",
     "text": [
      "9\n",
      "1\n",
      "20\n",
      "25\n",
      "1.25\n",
      "83\n",
      "1\n"
     ]
    }
   ],
   "source": [
    "#arithmatic opertors\n",
    "print(5+4)#addition\n",
    "print(5-4)#subtraction\n",
    "print(5*4)#multiplication\n",
    "print(5**2)#exponential\n",
    "print(5/4)#division\n",
    "print(333//4)#rounded off division\n",
    "print(337%4)#returns the remainder"
   ]
  },
  {
   "cell_type": "code",
   "execution_count": 11,
   "id": "39c781c6",
   "metadata": {},
   "outputs": [
    {
     "name": "stdout",
     "output_type": "stream",
     "text": [
      "False\n",
      "True\n",
      "False\n",
      "True\n",
      "False\n",
      "True\n"
     ]
    }
   ],
   "source": [
    "#comparision operator\n",
    "a=6\n",
    "b=9\n",
    "print(a==b)#equal\n",
    "print(a!=b)#not equal\n",
    "print(a>=b)#greater than\n",
    "print(a<=b)#less than\n",
    "print(a is b)#is\n",
    "print(a is not b)#is not"
   ]
  },
  {
   "cell_type": "code",
   "execution_count": 12,
   "id": "eb06d61d",
   "metadata": {},
   "outputs": [
    {
     "name": "stdout",
     "output_type": "stream",
     "text": [
      "0\n",
      "1\n",
      "False\n"
     ]
    }
   ],
   "source": [
    "#logical operator\n",
    "a=1\n",
    "b=0\n",
    "print(a and b)\n",
    "print(a or b)\n",
    "print(not a )"
   ]
  },
  {
   "cell_type": "code",
   "execution_count": 19,
   "id": "296589ed",
   "metadata": {},
   "outputs": [
    {
     "name": "stdout",
     "output_type": "stream",
     "text": [
      "1\n",
      "51\n",
      "-18\n",
      "4\n",
      "68\n"
     ]
    }
   ],
   "source": [
    "# bitwise operator \n",
    "a=17\n",
    "b =35\n",
    "print(a&b)#bitwise and operator\n",
    "print(a|b)#bitwise or operator\n",
    "print(~a)#bitwise not operator\n",
    "print(a>>2)#bitwise right decreases the value\n",
    "print(a<<2)# bitwise left increases the value"
   ]
  },
  {
   "cell_type": "code",
   "execution_count": 36,
   "id": "3f8d9474",
   "metadata": {},
   "outputs": [
    {
     "name": "stdout",
     "output_type": "stream",
     "text": [
      "4\n",
      "4\n",
      "8\n",
      "6\n",
      "42\n"
     ]
    }
   ],
   "source": [
    "a = 4\n",
    "print(a)\n",
    "c = a\n",
    "print(c)\n",
    "a +=c #add amd assign\n",
    "print(a)\n",
    "a -=2 #subtract and assign\n",
    "print(a)\n",
    "a *=7 #multply and aasign\n",
    "print(a)\n"
   ]
  },
  {
   "cell_type": "code",
   "execution_count": 38,
   "id": "a505420e",
   "metadata": {},
   "outputs": [
    {
     "name": "stdout",
     "output_type": "stream",
     "text": [
      "False\n",
      "True\n"
     ]
    }
   ],
   "source": [
    "# identity operator\n",
    "a = 17 \n",
    "b = 32\n",
    "c = 77\n",
    "print(a is b)# is operator\n",
    "print(a is not c)# is not operator"
   ]
  },
  {
   "cell_type": "code",
   "execution_count": 40,
   "id": "67b44d7b",
   "metadata": {},
   "outputs": [
    {
     "name": "stdout",
     "output_type": "stream",
     "text": [
      "False\n",
      "True\n"
     ]
    }
   ],
   "source": [
    "# member ship operator \n",
    "x = ('a','c','d','e')\n",
    "print('j' in x)# in operator\n",
    "print('j'not in x)#not in opearator"
   ]
  },
  {
   "cell_type": "code",
   "execution_count": null,
   "id": "718ce3b8",
   "metadata": {},
   "outputs": [],
   "source": []
  }
 ],
 "metadata": {
  "kernelspec": {
   "display_name": "Python 3 (ipykernel)",
   "language": "python",
   "name": "python3"
  },
  "language_info": {
   "codemirror_mode": {
    "name": "ipython",
    "version": 3
   },
   "file_extension": ".py",
   "mimetype": "text/x-python",
   "name": "python",
   "nbconvert_exporter": "python",
   "pygments_lexer": "ipython3",
   "version": "3.7.16"
  }
 },
 "nbformat": 4,
 "nbformat_minor": 5
}
