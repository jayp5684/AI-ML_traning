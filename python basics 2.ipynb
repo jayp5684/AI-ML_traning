{
 "cells": [
  {
   "cell_type": "code",
   "execution_count": 1,
   "id": "47fb4a4a",
   "metadata": {},
   "outputs": [
    {
     "name": "stdout",
     "output_type": "stream",
     "text": [
      "enter your namejay\n",
      "hello jay\n"
     ]
    }
   ],
   "source": [
    "#taking input values in python\n",
    "name = input('enter your name')\n",
    "print(\"hello\",name)"
   ]
  },
  {
   "cell_type": "code",
   "execution_count": 3,
   "id": "e5cd39dd",
   "metadata": {},
   "outputs": [
    {
     "name": "stdout",
     "output_type": "stream",
     "text": [
      "enter the number 1:4\n",
      "enter the number 2:4\n",
      "the sum of two numbers is 8\n"
     ]
    }
   ],
   "source": [
    "#operating input values\n",
    "num1 = int(input('enter the number 1:'))\n",
    "num2 = int(input('enter the number 2:'))\n",
    "sum= num1 + num2\n",
    "print(\"the sum of two numbers is\",sum)"
   ]
  },
  {
   "cell_type": "code",
   "execution_count": 14,
   "id": "af3ee534",
   "metadata": {},
   "outputs": [
    {
     "name": "stdout",
     "output_type": "stream",
     "text": [
      "enter the number:5\n",
      "Num2 is great\n"
     ]
    }
   ],
   "source": [
    "# if else loop\n",
    "num1 = int(input('enter the number:'))\n",
    "if(num1>12):\n",
    "   print(\"Num1 is good\")\n",
    "elif(num1>35):\n",
    "   print(\"Num2 is not gooooo....\")\n",
    "else:\n",
    "   print(\"Num2 is great\")"
   ]
  },
  {
   "cell_type": "code",
   "execution_count": 19,
   "id": "c7116ee0",
   "metadata": {
    "scrolled": true
   },
   "outputs": [
    {
     "name": "stdout",
     "output_type": "stream",
     "text": [
      "hello\n",
      "hello again i m jay\n"
     ]
    }
   ],
   "source": [
    "#defining a function in python\n",
    "def hello():\n",
    "    print('hello')\n",
    "    print('hello again i m jay')\n",
    "\n",
    "hello()"
   ]
  },
  {
   "cell_type": "code",
   "execution_count": 22,
   "id": "dd7e864e",
   "metadata": {},
   "outputs": [
    {
     "name": "stdout",
     "output_type": "stream",
     "text": [
      "0\n",
      "1\n",
      "2\n",
      "3\n",
      "4\n"
     ]
    }
   ],
   "source": [
    "#it illustrates each itteration in the give loop\n",
    "for step in range(5):\n",
    "    print(step)"
   ]
  },
  {
   "cell_type": "code",
   "execution_count": 27,
   "id": "6d0d791f",
   "metadata": {},
   "outputs": [
    {
     "name": "stdout",
     "output_type": "stream",
     "text": [
      "enter the number of :2 4\n",
      "number of boys: 2\n",
      "number of girls: 4\n",
      "\n"
     ]
    }
   ],
   "source": [
    "#taking multiple inputs from the user\n",
    "x,y = input(\"enter the number of :\").split()\n",
    "print(\"number of boys:\",x)\n",
    "print(\"number of girls:\",y)\n",
    "print()"
   ]
  },
  {
   "cell_type": "code",
   "execution_count": 29,
   "id": "82d33369",
   "metadata": {},
   "outputs": [
    {
     "name": "stdout",
     "output_type": "stream",
     "text": [
      "enter the number of :49 50 1\n",
      "number of boys: 49\n",
      "number of girls: 50\n",
      "number of trans: 1\n",
      "\n"
     ]
    }
   ],
   "source": [
    "x,y,z = input(\"enter the number of :\").split()\n",
    "print(\"number of boys:\",x)\n",
    "print(\"number of girls:\",y)\n",
    "print(\"number of trans:\",z)\n",
    "print()"
   ]
  },
  {
   "cell_type": "code",
   "execution_count": 32,
   "id": "a60ee812",
   "metadata": {},
   "outputs": [
    {
     "name": "stdout",
     "output_type": "stream",
     "text": [
      "2 3 4 5 6 6 7\n"
     ]
    }
   ],
   "source": [
    "#creating an array with simple input technique\n",
    "arr = [int(x) for x in input().split()]"
   ]
  },
  {
   "cell_type": "code",
   "execution_count": 49,
   "id": "ed91a748",
   "metadata": {},
   "outputs": [
    {
     "name": "stdout",
     "output_type": "stream",
     "text": [
      "1 2 3 4 5\n",
      "1\n",
      "3\n",
      "6\n",
      "10\n",
      "15\n"
     ]
    }
   ],
   "source": [
    "#creating an operating array function\n",
    "arr = [int(x) for x in input().split()]\n",
    "summation = 0\n",
    "for x in arr:\n",
    "    summation +=x\n",
    "    print(summation)"
   ]
  },
  {
   "cell_type": "code",
   "execution_count": 57,
   "id": "06a34a27",
   "metadata": {},
   "outputs": [
    {
     "name": "stdout",
     "output_type": "stream",
     "text": [
      "6\n"
     ]
    }
   ],
   "source": [
    "# defining global and local variables\n",
    "#cnt is a global variable\n",
    "cnt = 5\n",
    "def func():\n",
    "    global  cnt\n",
    "    cnt = cnt+1\n",
    "    print(cnt)\n",
    "func()"
   ]
  },
  {
   "cell_type": "code",
   "execution_count": 1,
   "id": "43b26501",
   "metadata": {},
   "outputs": [
    {
     "name": "stdout",
     "output_type": "stream",
     "text": [
      "6\n",
      "5\n"
     ]
    }
   ],
   "source": [
    "#swapping teo variables using python function\n",
    "a=5\n",
    "b=6\n",
    "a,b=b,a\n",
    "print(a)\n",
    "print(b)"
   ]
  },
  {
   "cell_type": "code",
   "execution_count": 4,
   "id": "03cb67f0",
   "metadata": {},
   "outputs": [
    {
     "name": "stdout",
     "output_type": "stream",
     "text": [
      "6\n",
      "5\n"
     ]
    }
   ],
   "source": [
    "#swapping two variables using temp variable\n",
    "a=5\n",
    "b=6\n",
    "temp=a\n",
    "a=b\n",
    "b=temp\n",
    "print(a)\n",
    "print(b)"
   ]
  },
  {
   "cell_type": "code",
   "execution_count": 5,
   "id": "6ea9a001",
   "metadata": {},
   "outputs": [
    {
     "name": "stdout",
     "output_type": "stream",
     "text": [
      "6\n",
      "5\n"
     ]
    }
   ],
   "source": [
    "#swapping two variables using an arithmatic formulae\n",
    "a=5\n",
    "b=6\n",
    "a=a+b\n",
    "b=a-b\n",
    "a=a-b\n",
    "print(a)\n",
    "print(b)"
   ]
  },
  {
   "cell_type": "code",
   "execution_count": 6,
   "id": "b02dd66d",
   "metadata": {},
   "outputs": [
    {
     "name": "stdout",
     "output_type": "stream",
     "text": [
      "6\n",
      "5\n"
     ]
    }
   ],
   "source": [
    "#swaping two variables using exor \n",
    "a = 5\n",
    "b = 6\n",
    "a = a^b\n",
    "b = a^b\n",
    "a = a^b\n",
    "print(a)\n",
    "print(b)"
   ]
  },
  {
   "cell_type": "code",
   "execution_count": null,
   "id": "9782269f",
   "metadata": {},
   "outputs": [],
   "source": []
  }
 ],
 "metadata": {
  "kernelspec": {
   "display_name": "Python 3 (ipykernel)",
   "language": "python",
   "name": "python3"
  },
  "language_info": {
   "codemirror_mode": {
    "name": "ipython",
    "version": 3
   },
   "file_extension": ".py",
   "mimetype": "text/x-python",
   "name": "python",
   "nbconvert_exporter": "python",
   "pygments_lexer": "ipython3",
   "version": "3.7.16"
  }
 },
 "nbformat": 4,
 "nbformat_minor": 5
}
