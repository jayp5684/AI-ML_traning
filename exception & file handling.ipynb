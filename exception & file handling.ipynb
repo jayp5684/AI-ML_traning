{
 "cells": [
  {
   "cell_type": "code",
   "execution_count": 3,
   "id": "acfda441",
   "metadata": {},
   "outputs": [
    {
     "name": "stdout",
     "output_type": "stream",
     "text": [
      "enter the first number:4\n",
      "enter the second number:0\n",
      "cannot perform the operation!!!\n",
      "thank you for using this program\n"
     ]
    }
   ],
   "source": [
    "a = int(input(\"enter the first number:\"))\n",
    "b = int(input(\"enter the second number:\"))\n",
    "try: \n",
    "    c = a/b\n",
    "    print(\"answer:\",c)\n",
    "    \n",
    "except:\n",
    "    print(\"cannot perform the operation!!!\")\n",
    "print('thank you for using this program')"
   ]
  },
  {
   "cell_type": "code",
   "execution_count": 19,
   "id": "8bed03ac",
   "metadata": {},
   "outputs": [
    {
     "name": "stdout",
     "output_type": "stream",
     "text": [
      "enter the number:gf\n",
      "can not perform the operation!!!\n"
     ]
    }
   ],
   "source": [
    "\n",
    "try:\n",
    "    a = int(input(\"enter the number:\"))\n",
    "    print(f\"the table of {a} is\")\n",
    "    for i in range(1,11):\n",
    "        print(f\"{int(a)} X {i} = {int(a)*i}\")\n",
    "except:\n",
    "    print(\"can not perform the operation!!!\")\n",
    "    \n",
    "    \n"
   ]
  },
  {
   "cell_type": "markdown",
   "id": "0c75589e",
   "metadata": {},
   "source": [
    "# file handling"
   ]
  },
  {
   "cell_type": "code",
   "execution_count": 8,
   "id": "af2e4b63",
   "metadata": {},
   "outputs": [
    {
     "name": "stdout",
     "output_type": "stream",
     "text": [
      "cdsc dfsdc\n"
     ]
    }
   ],
   "source": [
    "class computer:\n",
    "    \n",
    "    \n",
    "    def __init__(self,cpu,ram):\n",
    "        self.ram = ram\n",
    "        self.cpu = cpu\n",
    "    \n",
    "    def config(self):\n",
    "        print(self.cpu,self.ram)\n",
    "com1 = computer(\"cdsc\",\"dfsdc\")\n",
    "\n",
    "com1.config()\n",
    "        "
   ]
  },
  {
   "cell_type": "code",
   "execution_count": 1,
   "id": "d317ca1f",
   "metadata": {},
   "outputs": [
    {
     "data": {
      "text/plain": [
       "'C:\\\\Users\\\\Jay\\\\Desktop\\\\internship\\\\AI-ML_traning'"
      ]
     },
     "execution_count": 1,
     "metadata": {},
     "output_type": "execute_result"
    }
   ],
   "source": [
    "#importing os\n",
    "import os\n",
    "os.getcwd()#checking current directory"
   ]
  },
  {
   "cell_type": "code",
   "execution_count": 4,
   "id": "ac3591f9",
   "metadata": {},
   "outputs": [],
   "source": [
    "os.chdir('C:\\\\Users\\\\Jay\\\\Desktop\\\\internship\\\\data hamdling')# assigning new directrory"
   ]
  },
  {
   "cell_type": "code",
   "execution_count": 17,
   "id": "13827fec",
   "metadata": {},
   "outputs": [
    {
     "name": "stdout",
     "output_type": "stream",
     "text": [
      "the assigned task is completed\n"
     ]
    }
   ],
   "source": [
    "f = open('file.txt','w')#creating a file in the newly assigned directory\n",
    "f.write('I m awsome')#writing function\n",
    "f.write('\\nnevertheless i still study.') #writing function\n",
    "f.close()\n",
    "print('the assigned task is completed')"
   ]
  },
  {
   "cell_type": "code",
   "execution_count": 18,
   "id": "39ee3e01",
   "metadata": {},
   "outputs": [
    {
     "name": "stdout",
     "output_type": "stream",
     "text": [
      "the assigned task is completed\n"
     ]
    }
   ],
   "source": [
    "#appending text in python file\n",
    "with open('file.txt','a') as f:\n",
    "    f.write('\\nwork hard despite your intellect')\n",
    "    print('the assigned task is completed')"
   ]
  },
  {
   "cell_type": "code",
   "execution_count": 22,
   "id": "01ed7e81",
   "metadata": {},
   "outputs": [
    {
     "name": "stdout",
     "output_type": "stream",
     "text": [
      "I m awsome\n",
      "nevertheless i still study.\n",
      "work hard despite your intellect\n"
     ]
    }
   ],
   "source": [
    "#read ing the txt file\n",
    "with open('file.txt','r') as f:\n",
    "    pa = f.read()\n",
    "    print(pa)\n",
    "    "
   ]
  },
  {
   "cell_type": "code",
   "execution_count": 26,
   "id": "f239fdb1",
   "metadata": {},
   "outputs": [
    {
     "name": "stdout",
     "output_type": "stream",
     "text": [
      "I m awsome\n",
      "nevertheless\n"
     ]
    }
   ],
   "source": [
    "#slicing the read command\n",
    "with open('file.txt','r') as f:\n",
    "    par = f.read(23)\n",
    "    print(par)\n",
    "    "
   ]
  },
  {
   "cell_type": "code",
   "execution_count": 25,
   "id": "4fa25742",
   "metadata": {},
   "outputs": [
    {
     "name": "stdout",
     "output_type": "stream",
     "text": [
      "assigned task done\n"
     ]
    }
   ],
   "source": [
    "with open('file1.txt','x') as g:\n",
    "    g.write('one piece is real')\n",
    "    print('assigned task done')\n",
    "    "
   ]
  },
  {
   "cell_type": "code",
   "execution_count": 24,
   "id": "ffa2d442",
   "metadata": {},
   "outputs": [
    {
     "name": "stdout",
     "output_type": "stream",
     "text": [
      "file deleted\n"
     ]
    }
   ],
   "source": [
    "os.remove('file1.txt')\n",
    "print(\"file deleted\")"
   ]
  },
  {
   "cell_type": "code",
   "execution_count": 35,
   "id": "ef9adb76",
   "metadata": {},
   "outputs": [
    {
     "name": "stdout",
     "output_type": "stream",
     "text": [
      "[2.7, 'PythonJava', False]\n"
     ]
    }
   ],
   "source": [
    "# L = [1.5 ,'Python', False] \n",
    "# T = (1.2, 'Java', True) \n",
    "# for i in range(len(L)): \n",
    "#   if L[i]: \n",
    "#      L[i] = L[i] + T[i] \n",
    "# #   else: \n",
    "# #      T[i] = L[i] + T[i] \n",
    " \n",
    "# print(L) "
   ]
  },
  {
   "cell_type": "code",
   "execution_count": 36,
   "id": "911ecf01",
   "metadata": {},
   "outputs": [
    {
     "name": "stdout",
     "output_type": "stream",
     "text": [
      "[10, 0, 30, ['A', 0, 'C']]\n",
      "[10, 20, 30, ['A', 0, 'C']]\n",
      "[10, 20, 30, ['A', 'B', 'C']]\n"
     ]
    }
   ],
   "source": [
    "import copy\n",
    "list1 = [10, 20, 30, ['A' , 'B' , 'C']]\n",
    "list2 = list1.copy()\n",
    "list3 = copy.deepcopy(list1)\n",
    "list1[3][1] = 0000\n",
    "list1[1] = 0000\n",
    "print(list1) \n",
    "print(list2)\n",
    "print(list3)"
   ]
  },
  {
   "cell_type": "code",
   "execution_count": 38,
   "id": "eeea5bb2",
   "metadata": {},
   "outputs": [
    {
     "name": "stdout",
     "output_type": "stream",
     "text": [
      "Brand: Ford\n"
     ]
    },
    {
     "data": {
      "text/plain": [
       "<__main__.Vehicle at 0x141905c5348>"
      ]
     },
     "execution_count": 38,
     "metadata": {},
     "output_type": "execute_result"
    }
   ],
   "source": [
    "class Vehicle :\n",
    "      def __init__(brand):\n",
    "        print('Brand:','Ford')\n",
    "Vehicle()"
   ]
  },
  {
   "cell_type": "code",
   "execution_count": 49,
   "id": "d5d0d0d7",
   "metadata": {},
   "outputs": [
    {
     "name": "stdout",
     "output_type": "stream",
     "text": [
      " p : 48  q : 45  r : 56  s : 30\n"
     ]
    }
   ],
   "source": [
    "def say(p ,q=42,r=5 , s=28):\n",
    "  print(' p :',p,' q :',q,' r :',r,' s :',s)\n",
    "say(48,(45),56,s=30)"
   ]
  },
  {
   "cell_type": "code",
   "execution_count": 50,
   "id": "692f1b42",
   "metadata": {},
   "outputs": [
    {
     "data": {
      "text/plain": [
       "0.30000000000000004"
      ]
     },
     "execution_count": 50,
     "metadata": {},
     "output_type": "execute_result"
    }
   ],
   "source": [
    "0.1 +0.2"
   ]
  },
  {
   "cell_type": "code",
   "execution_count": 62,
   "id": "52e0f3f8",
   "metadata": {},
   "outputs": [],
   "source": [
    "import numpy as np\n",
    "import copy \n"
   ]
  },
  {
   "cell_type": "code",
   "execution_count": 71,
   "id": "87211df2",
   "metadata": {},
   "outputs": [],
   "source": [
    "a1 = np.array([1,5])\n",
    "\n",
    "a = np.array([1,3,4,5,6])\n",
    "a =np.concatenate((a, a1))\n",
    "b= copy.copy(a)\n",
    "c=copy.deepcopy(a)\n"
   ]
  },
  {
   "cell_type": "code",
   "execution_count": 72,
   "id": "0f4b8720",
   "metadata": {},
   "outputs": [
    {
     "data": {
      "text/plain": [
       "array([1, 3, 4, 5, 6, 1, 5])"
      ]
     },
     "execution_count": 72,
     "metadata": {},
     "output_type": "execute_result"
    }
   ],
   "source": [
    "a"
   ]
  },
  {
   "cell_type": "code",
   "execution_count": 65,
   "id": "43defc85",
   "metadata": {},
   "outputs": [
    {
     "data": {
      "text/plain": [
       "array([1, 3, 4, 5, 6])"
      ]
     },
     "execution_count": 65,
     "metadata": {},
     "output_type": "execute_result"
    }
   ],
   "source": [
    "b"
   ]
  },
  {
   "cell_type": "code",
   "execution_count": 66,
   "id": "1139869f",
   "metadata": {},
   "outputs": [],
   "source": [
    "b[1]=2"
   ]
  },
  {
   "cell_type": "code",
   "execution_count": 67,
   "id": "8c9eafa9",
   "metadata": {},
   "outputs": [
    {
     "data": {
      "text/plain": [
       "array([1, 2, 4, 5, 6])"
      ]
     },
     "execution_count": 67,
     "metadata": {},
     "output_type": "execute_result"
    }
   ],
   "source": [
    "b"
   ]
  },
  {
   "cell_type": "code",
   "execution_count": 68,
   "id": "678f96a2",
   "metadata": {},
   "outputs": [
    {
     "data": {
      "text/plain": [
       "array([1, 3, 4, 5, 6])"
      ]
     },
     "execution_count": 68,
     "metadata": {},
     "output_type": "execute_result"
    }
   ],
   "source": [
    "a"
   ]
  },
  {
   "cell_type": "code",
   "execution_count": 69,
   "id": "c0d41495",
   "metadata": {},
   "outputs": [
    {
     "data": {
      "text/plain": [
       "array([1, 3, 4, 5, 6])"
      ]
     },
     "execution_count": 69,
     "metadata": {},
     "output_type": "execute_result"
    }
   ],
   "source": [
    "c"
   ]
  },
  {
   "cell_type": "code",
   "execution_count": 73,
   "id": "6444a806",
   "metadata": {},
   "outputs": [
    {
     "data": {
      "text/plain": [
       "0.30000000000000004"
      ]
     },
     "execution_count": 73,
     "metadata": {},
     "output_type": "execute_result"
    }
   ],
   "source": [
    "# \n",
    "q = 0.2 + 0.1\n",
    "q\n"
   ]
  },
  {
   "cell_type": "code",
   "execution_count": 74,
   "id": "45f53892",
   "metadata": {},
   "outputs": [],
   "source": [
    "from decimal import Decimal"
   ]
  },
  {
   "cell_type": "code",
   "execution_count": 75,
   "id": "566a7a0c",
   "metadata": {},
   "outputs": [
    {
     "data": {
      "text/plain": [
       "Decimal('0.3')"
      ]
     },
     "execution_count": 75,
     "metadata": {},
     "output_type": "execute_result"
    }
   ],
   "source": [
    "r = Decimal('0.1') + Decimal('0.2')\n",
    "r"
   ]
  },
  {
   "cell_type": "code",
   "execution_count": null,
   "id": "281f91bd",
   "metadata": {},
   "outputs": [],
   "source": []
  }
 ],
 "metadata": {
  "kernelspec": {
   "display_name": "Python 3 (ipykernel)",
   "language": "python",
   "name": "python3"
  },
  "language_info": {
   "codemirror_mode": {
    "name": "ipython",
    "version": 3
   },
   "file_extension": ".py",
   "mimetype": "text/x-python",
   "name": "python",
   "nbconvert_exporter": "python",
   "pygments_lexer": "ipython3",
   "version": "3.7.16"
  }
 },
 "nbformat": 4,
 "nbformat_minor": 5
}
