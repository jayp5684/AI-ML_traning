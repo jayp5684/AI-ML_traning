{
 "cells": [
  {
   "cell_type": "markdown",
   "id": "15741d6e",
   "metadata": {},
   "source": [
    "# object oriented programming\n"
   ]
  },
  {
   "cell_type": "code",
   "execution_count": 19,
   "id": "b582d623",
   "metadata": {},
   "outputs": [],
   "source": [
    "#creating the python class and assigining the attributes/objects to it\n",
    "class myclass:#created a class named myclass\n",
    "    number = 0#assigning attributes to the class\n",
    "    name = \"noname\"\n",
    "def main():\n",
    "    me = myclass()#created an object me in myclass\n",
    "    me.number(1007)\n",
    "    me.name = \"jay patel\"\n",
    "    \n",
    "\n",
    "    \n",
    " "
   ]
  },
  {
   "cell_type": "code",
   "execution_count": 13,
   "id": "4b867d87",
   "metadata": {},
   "outputs": [
    {
     "name": "stdout",
     "output_type": "stream",
     "text": [
      "i5,16gb,512gb\n",
      "i7,32gb,1tb\n"
     ]
    }
   ],
   "source": [
    "#object oriented programming in python\n",
    "class computer: #defining a class \n",
    "    def config(self):   #defining attribute 1\n",
    "        print(\"i5,16gb,512gb\")\n",
    "    def config2(self):  #defining attribute 2 \n",
    "        print(\"i7,32gb,1tb\")\n",
    "        \n",
    "com1 = computer()#defining object1 in class\n",
    "com2 = computer()#defining object2 in class\n",
    "computer.config(com1)  #assigning attribute1 to class1\n",
    "computer.config2(com2) #assigning attribute2 to class2"
   ]
  },
  {
   "cell_type": "code",
   "execution_count": 21,
   "id": "d168a1c2",
   "metadata": {},
   "outputs": [
    {
     "name": "stdout",
     "output_type": "stream",
     "text": [
      "config is i3,and ram is32\n",
      "config is i5,and ram is16\n"
     ]
    }
   ],
   "source": [
    "class computer:\n",
    "    def __init__(self,cpu,ram):\n",
    "        self.cpu = cpu\n",
    "        self.ram = ram\n",
    "        \n",
    "    def config(self):\n",
    "        print(f\"config is {self.cpu},and ram is{self.ram}\")\n",
    "        \n",
    "com1 = computer('i3',32)\n",
    "com2 = computer('i5',16)\n",
    "\n",
    "com1.config()\n",
    "com2.config()"
   ]
  },
  {
   "cell_type": "code",
   "execution_count": 22,
   "id": "9e93e5c5",
   "metadata": {},
   "outputs": [
    {
     "name": "stdout",
     "output_type": "stream",
     "text": [
      "the marks are 77\n"
     ]
    }
   ],
   "source": [
    "class students:\n",
    "    def marks(self):\n",
    "        mks = 77\n",
    "        print(f\"the marks are {mks}\")\n",
    "    \n",
    "student1 = students()\n",
    "\n",
    "students.marks(student1)"
   ]
  },
  {
   "cell_type": "code",
   "execution_count": 9,
   "id": "a016979b",
   "metadata": {},
   "outputs": [
    {
     "name": "stdout",
     "output_type": "stream",
     "text": [
      "10 ckcd 3\n",
      "12 fss\n"
     ]
    }
   ],
   "source": [
    "# types of variables in python \n",
    "# instance variable :-\n",
    "# class variables :-\n",
    "\n",
    "class cars:\n",
    "    \n",
    "    wheels = 4  #class variable\n",
    "    \n",
    "    def __init__(self):\n",
    "        self.mil = 10     #instance variable\n",
    "        self.co = \"ckcd\"   #instance variable\n",
    "        \n",
    "c1 = cars()\n",
    "c2 = cars()\n",
    "\n",
    "c2.mil = 12\n",
    "c2.co = \"fss\"\n",
    "\n",
    "cars.wheels = 3\n",
    "print(c1.mil,c1.co,c1.wheels)\n",
    "print(c2.mil,c2.co)\n",
    "        \n",
    "        "
   ]
  },
  {
   "cell_type": "code",
   "execution_count": 34,
   "id": "f40378ac",
   "metadata": {},
   "outputs": [
    {
     "name": "stdout",
     "output_type": "stream",
     "text": [
      "38.0\n",
      "sgs\n"
     ]
    }
   ],
   "source": [
    "#using decorator to create a method which could perform operations on class variable\n",
    "class students :\n",
    "    school = \"sgs\"\n",
    "    def __init__(self,m1,m2,m3):\n",
    "        self.m1 = m1\n",
    "        self.m2 = m2\n",
    "        self.m3 = m3\n",
    "       \n",
    "    def avg(self):\n",
    "        return (self.m1+self.m2+self.m3)/3\n",
    "    \n",
    "    @classmethod\n",
    "    def info(cls):\n",
    "        return (cls.school)\n",
    "\n",
    "s1 = students(23,33,45)\n",
    "s1 = students(23,44,47)\n",
    "\n",
    "print(s1.avg())\n",
    "print(students.info())"
   ]
  },
  {
   "cell_type": "code",
   "execution_count": 52,
   "id": "8ab5ccf3",
   "metadata": {},
   "outputs": [
    {
     "name": "stdout",
     "output_type": "stream",
     "text": [
      "the price of shoes is 3500\n"
     ]
    }
   ],
   "source": [
    "#creating a static methord which would allow us to operate on either of the variables\n",
    "class nike:\n",
    "    \n",
    "    price = \"3500\"\n",
    "    \n",
    "    \n",
    "    def shoes(self,n1,n2,n3):\n",
    "        self.n1 = n1\n",
    "        self.n2 = n2\n",
    "        self.n3 = n3\n",
    "    \n",
    "    @staticmethod\n",
    "    def cost():\n",
    "        return f\"the price of shoes is {nike.price}\"\n",
    "\n",
    "air_force = nike()\n",
    "\n",
    "print(air_force.cost())\n"
   ]
  },
  {
   "cell_type": "code",
   "execution_count": 30,
   "id": "b4723c8d",
   "metadata": {},
   "outputs": [
    {
     "name": "stdout",
     "output_type": "stream",
     "text": [
      "the name of bike is unicorn and the hp is 10\n"
     ]
    }
   ],
   "source": [
    "class bikes:\n",
    "    \n",
    "    def __init__(self,nam,hp):\n",
    "        self.nam = nam \n",
    "        self.hp = hp\n",
    "    \n",
    "    def show(self):\n",
    "        print(f\"the name of bike is {self.nam} and the hp is {self.hp}\")\n",
    "\n",
    "    \n",
    "yamaha = bikes(\"r15\",12)\n",
    "hero = bikes(\"unicorn\",10)\n",
    "\n",
    "hero.show()\n",
    "    "
   ]
  },
  {
   "cell_type": "code",
   "execution_count": 42,
   "id": "b9d04970",
   "metadata": {},
   "outputs": [
    {
     "name": "stdout",
     "output_type": "stream",
     "text": [
      "jay 42\n",
      "<__main__.students.laptop object at 0x000001F0C9F92848>\n"
     ]
    }
   ],
   "source": [
    "#creating a class in side a class\n",
    "class students:\n",
    "    \n",
    "    def __init__(self,name,roll):\n",
    "        self.name = name\n",
    "        self.roll = roll\n",
    "        self.lap = self.laptop\n",
    "    \n",
    "    def show(self):\n",
    "        print(f\"{self.name} {self.roll}\")\n",
    "    \n",
    "    class laptop:\n",
    "        \n",
    "        def __init__(self):\n",
    "            self.brand = \"hp\"\n",
    "            self.po = \"15\"\n",
    "            self.ram = \"16gb\"\n",
    "            \n",
    "        \n",
    "        \n",
    "s1 = students('jay',42)\n",
    "s2 = students('sanket',17)\n",
    "\n",
    "s1.show()\n",
    "\n",
    "lap1 = s1.lap\n",
    "lap2 = s2.lap\n",
    "\n",
    "# print(id(lap1))\n",
    "# print(id(lap2))\n",
    "print(students.laptop())"
   ]
  },
  {
   "cell_type": "code",
   "execution_count": 55,
   "id": "f67be3e6",
   "metadata": {},
   "outputs": [
    {
     "name": "stdout",
     "output_type": "stream",
     "text": [
      "this funcion 1 is working\n"
     ]
    }
   ],
   "source": [
    "#inheritence in python\n",
    "#multi level inheritance\n",
    "class a:\n",
    "    def fun1():\n",
    "        print(\"this funcion 1 is working\")\n",
    "    def fun2():\n",
    "        print(\"this finction 2 is working\")\n",
    "class b(a):\n",
    "    def fun3():\n",
    "        print('this function 3 is working')\n",
    "    def fun4():\n",
    "        print('this function 4 is working')\n",
    "\n",
    "class c(b):\n",
    "    def fun5():\n",
    "        print('this function 5 is working')\n",
    "        \n",
    "c.fun1()"
   ]
  },
  {
   "cell_type": "code",
   "execution_count": 57,
   "id": "7eafffe4",
   "metadata": {},
   "outputs": [
    {
     "name": "stdout",
     "output_type": "stream",
     "text": [
      "this function 4 is working\n"
     ]
    }
   ],
   "source": [
    "#multiple inheritance\n",
    "class a:\n",
    "    def fun1():\n",
    "        print(\"this funcion 1 is working\")\n",
    "    def fun2():\n",
    "        print(\"this finction 2 is working\")\n",
    "class b():\n",
    "    def fun3():\n",
    "        print('this function 3 is working')\n",
    "    def fun4():\n",
    "        print('this function 4 is working')\n",
    "\n",
    "class c(a,b):\n",
    "    def fun5():\n",
    "        print('this function 5 is working')\n",
    "        \n",
    "c.fun4()"
   ]
  },
  {
   "cell_type": "code",
   "execution_count": 7,
   "id": "8533ef8a",
   "metadata": {},
   "outputs": [
    {
     "name": "stdout",
     "output_type": "stream",
     "text": [
      "this is a's constructor\n",
      "this is b's consructor\n",
      "this funcion 1 is working\n"
     ]
    }
   ],
   "source": [
    "# the super class the super class allows ut to acell all the elements of the parent class with the command \n",
    "class a:\n",
    "    def __init__(self):\n",
    "        print(\"this is a's constructor\")\n",
    "    def fun1():\n",
    "        print(\"this funcion 1 is working\")\n",
    "    def fun2():\n",
    "        print(\"this finction 2 is working\")\n",
    "class b(a):\n",
    "    def __init__(self):\n",
    "        super().__init__()   #using this command we will be able to acess the elements from the super class\n",
    "        print(\"this is b's consructor\")\n",
    "    def fun3():\n",
    "        print('this function 3 is working')\n",
    "    def fun4():\n",
    "        print('this function 4 is working')\n",
    "        \n",
    "        super().fun1()\n",
    "\n",
    "# class c(a,b):\n",
    "#     def fun5():\n",
    "#         print('this function 5 is working')\n",
    "        \n",
    "a1 = b()\n",
    "a2 = b.fun1()"
   ]
  },
  {
   "cell_type": "code",
   "execution_count": 23,
   "id": "c93c06d2",
   "metadata": {},
   "outputs": [
    {
     "name": "stdout",
     "output_type": "stream",
     "text": [
      "running\n",
      "crunches\n",
      "pushups\n"
     ]
    }
   ],
   "source": [
    "#polymorphysim refest to the objects having multiple forms and the types of polymorhhysim are\n",
    "#duck typing,method overloading,operator overloading,operator overloading\n",
    "class morning:\n",
    "\n",
    "    def excersise(self):\n",
    "        print('running')\n",
    "        print('crunches')\n",
    "        print('pushups')\n",
    "    \n",
    "class evening:\n",
    "    def excersise(self):\n",
    "        print('jacks')\n",
    "        print('pillups')\n",
    "        print('skipping')\n",
    "\n",
    "\n",
    "class jim:\n",
    "    def train():\n",
    "        sanket.excersise()\n",
    "        \n",
    "jay = evening()\n",
    "sanket = morning()\n",
    "# jay.excersise()\n",
    "# sanket.excersise()\n",
    "\n",
    "jim.train()\n",
    "\n",
    "\n"
   ]
  },
  {
   "cell_type": "code",
   "execution_count": 35,
   "id": "c81619e2",
   "metadata": {},
   "outputs": [
    {
     "name": "stdout",
     "output_type": "stream",
     "text": [
      "full name is tim ross and the salary is56000\n"
     ]
    },
    {
     "data": {
      "text/plain": [
       "100000"
      ]
     },
     "execution_count": 35,
     "metadata": {},
     "output_type": "execute_result"
    }
   ],
   "source": [
    "# operator overloading\n",
    "class employee:\n",
    "    def __init__(self,name,sirname,salary):\n",
    "        self.name = name\n",
    "        self.sirname = sirname\n",
    "        self.salary = salary\n",
    "    def ing(self):\n",
    "        print(f\"full name is {self.name} {self.sirname} and the salary is{self.salary}\")\n",
    "        \n",
    "    def __add__(self,other):\n",
    "        return self.salary + other.salary\n",
    "    \n",
    "tim = employee('tim','ross',56000) \n",
    "cook = employee('cook','nig',44000)\n",
    "\n",
    "\n",
    "tim.ing()\n",
    "tim+cook\n"
   ]
  },
  {
   "cell_type": "code",
   "execution_count": 4,
   "id": "7759ffc1",
   "metadata": {},
   "outputs": [
    {
     "name": "stdout",
     "output_type": "stream",
     "text": [
      "a2 wins\n"
     ]
    }
   ],
   "source": [
    "#method overloading\n",
    "#when we will have to perform operations on the user defined variables we will use this method\n",
    "class employee:\n",
    "    \n",
    "    \n",
    "    def __init__(self,m1,m2):\n",
    "        self.m1 = m1\n",
    "        self.m2 = m2\n",
    "    \n",
    "    def __add__(self,other):\n",
    "        m1 = self.m1 + other.m1\n",
    "        m2 = self.m2 + other.m2\n",
    "        s3 = employee(m1,m2)\n",
    "        \n",
    "        return s3\n",
    "    \n",
    "    def __gt__(self,other):\n",
    "        r1 = self.m1 + self.m2\n",
    "        r2 = other.m1 + other.m2\n",
    "        if r1>r2:\n",
    "            return True\n",
    "        else:\n",
    "            return False\n",
    "        \n",
    "        \n",
    "s1 = employee(60,40)\n",
    "s2 = employee(30,70)\n",
    "\n",
    "s3 = s1 + s2\n",
    "\n",
    "\n",
    "if s1 > s2:\n",
    "    print('a1 wins')\n",
    "else:\n",
    "    print('a2 wins')"
   ]
  },
  {
   "cell_type": "code",
   "execution_count": 8,
   "id": "ca895261",
   "metadata": {},
   "outputs": [
    {
     "name": "stdout",
     "output_type": "stream",
     "text": [
      "the first class\n",
      "the second class\n"
     ]
    }
   ],
   "source": [
    "#method overriding\n",
    "#this methoed will override the function of parent class in the child class with the same name \n",
    "class first:  #parent class\n",
    "    \n",
    "    def dil(self):\n",
    "        print(\"the first class\")\n",
    "        \n",
    "class second(first):#child class\n",
    "    \n",
    "    def dil(self):\n",
    "#         super().dil()\n",
    "        print(\"the second class\")\n",
    "        \n",
    "tr = second()\n",
    "tr.dil()"
   ]
  },
  {
   "cell_type": "code",
   "execution_count": 8,
   "id": "9ddb1835",
   "metadata": {},
   "outputs": [
    {
     "ename": "IndentationError",
     "evalue": "unexpected unindent (3372701088.py, line 10)",
     "output_type": "error",
     "traceback": [
      "\u001b[1;36m  File \u001b[1;32m\"C:\\Users\\Jay\\AppData\\Local\\Temp\\ipykernel_5344\\3372701088.py\"\u001b[1;36m, line \u001b[1;32m10\u001b[0m\n\u001b[1;33m    def speed(self):\u001b[0m\n\u001b[1;37m                    ^\u001b[0m\n\u001b[1;31mIndentationError\u001b[0m\u001b[1;31m:\u001b[0m unexpected unindent\n"
     ]
    }
   ],
   "source": [
    "# abstract class this python class will allow the parent class to force particular methods on to the child lass\n",
    "#by passing ABC module from library abc we will be able to perform abstract clas"
   ]
  },
  {
   "cell_type": "code",
   "execution_count": 14,
   "id": "6bf5eee0",
   "metadata": {},
   "outputs": [
    {
     "name": "stdout",
     "output_type": "stream",
     "text": [
      "every car has 4 wheels!!\n",
      "speed is 100 km/h\n",
      "speed id 90 km/h\n"
     ]
    }
   ],
   "source": [
    "from abc import ABC,abstractmethod\n",
    "class car(ABC):\n",
    "    \n",
    "    \n",
    "    def show(self):\n",
    "        print('every car has 4 wheels!!')\n",
    "        \n",
    "    @abstractmethod\n",
    "    def speed(self):\n",
    "        pass\n",
    "    \n",
    "class maruti(car):\n",
    "    \n",
    "    def speed(self):\n",
    "        print(\"speed is 100 km/h\")\n",
    "        \n",
    "class suzuki (car):\n",
    "    \n",
    "    def speed(self):\n",
    "        print(\"speed id 90 km/h\")\n",
    "        \n",
    "obj1 = maruti()\n",
    "obj2 = suzuki()\n",
    "\n",
    "obj1.show()\n",
    "obj1.speed()\n",
    "obj2.speed()\n",
    "                        "
   ]
  },
  {
   "cell_type": "code",
   "execution_count": 26,
   "id": "bc434c44",
   "metadata": {},
   "outputs": [],
   "source": [
    "# abstract method example\n",
    "from abc import ABC,abstractmethod\n",
    "\n",
    "class employee(ABC):\n",
    "    \n",
    "    \n",
    "    def info(self):\n",
    "        print('the individual works at Dotcom iot llp')\n",
    "    \n",
    "    def __init__(self,other):\n",
    "        \n",
    "    \n",
    "    @abstractmethod\n",
    "    def salary(self):\n",
    "        pass\n",
    "    \n",
    "    \n",
    "class manager(employee):\n",
    "    def salary(self,other):\n",
    "        \n",
    "        \n",
    "        class worker(employee):\n",
    "            def salary(self,other):\n",
    "        \n",
    "\n",
    "obj1 = manager(7000,3500)\n",
    "obj2 = worker(3000,1500)\n",
    "\n",
    "obj1.salary()"
   ]
  },
  {
   "cell_type": "code",
   "execution_count": null,
   "id": "25c43d4e",
   "metadata": {},
   "outputs": [],
   "source": []
  },
  {
   "cell_type": "code",
   "execution_count": null,
   "id": "70e9bf8a",
   "metadata": {},
   "outputs": [],
   "source": []
  },
  {
   "cell_type": "code",
   "execution_count": null,
   "id": "5d7dd0fd",
   "metadata": {},
   "outputs": [],
   "source": []
  }
 ],
 "metadata": {
  "kernelspec": {
   "display_name": "Python 3 (ipykernel)",
   "language": "python",
   "name": "python3"
  },
  "language_info": {
   "codemirror_mode": {
    "name": "ipython",
    "version": 3
   },
   "file_extension": ".py",
   "mimetype": "text/x-python",
   "name": "python",
   "nbconvert_exporter": "python",
   "pygments_lexer": "ipython3",
   "version": "3.7.16"
  }
 },
 "nbformat": 4,
 "nbformat_minor": 5
}
