{
 "cells": [
  {
   "cell_type": "markdown",
   "id": "b90467e4",
   "metadata": {},
   "source": [
    "# python functions"
   ]
  },
  {
   "cell_type": "code",
   "execution_count": 12,
   "id": "153e511c",
   "metadata": {},
   "outputs": [
    {
     "name": "stdout",
     "output_type": "stream",
     "text": [
      "6.183333333333334\n"
     ]
    }
   ],
   "source": [
    "#creating a python function\n",
    "def gmean(a,b):\n",
    "    gmen = (int(a*b)/(a+b))\n",
    "    print(gmen)\n",
    "gmean(53,7)\n",
    "\n",
    "def triar(br,h):\n",
    "    "
   ]
  },
  {
   "cell_type": "code",
   "execution_count": 5,
   "id": "30e22501",
   "metadata": {},
   "outputs": [
    {
     "name": "stdout",
     "output_type": "stream",
     "text": [
      "[10, 4, 3, 5, 45]\n"
     ]
    }
   ],
   "source": [
    "#creating a function to update a value from list\n",
    "lst=[10,4,3,5,7,]\n",
    "def update(lst):\n",
    "    lst[4]=45\n",
    "    print(lst)\n",
    "\n",
    "update(lst)\n",
    "    "
   ]
  },
  {
   "cell_type": "code",
   "execution_count": 19,
   "id": "2496afe8",
   "metadata": {},
   "outputs": [
    {
     "name": "stdout",
     "output_type": "stream",
     "text": [
      "{0: 'item0', 1: 'item1', 2: 'item2', 3: 'item3', 4: 'item4', 5: 'item5', 6: 'item6', 7: 'item7', 8: 'item8', 9: 'item9'}\n",
      "{0: 'item0', 1: 'item1', 2: 'item2', 3: 'item3', 4: 'item4', 5: 'item5', 6: 'item6', 7: 'item7', 8: 'item8', 9: 'item9', 'jay': 7, 'patel': 0}\n"
     ]
    }
   ],
   "source": [
    "#creating a function to update dictionary.\n",
    "dct = {i:f\"item{i}\" for i in range(10)}\n",
    "print(dct)\n",
    "def dicup(x):\n",
    "    x.update([('jay', 7), ('patel', 0)])\n",
    "    print(x)\n",
    "dicup(dct)"
   ]
  },
  {
   "cell_type": "code",
   "execution_count": 27,
   "id": "aa164c0f",
   "metadata": {
    "scrolled": true
   },
   "outputs": [
    {
     "name": "stdout",
     "output_type": "stream",
     "text": [
      "enter your name:jay\n",
      "enter your age:21\n",
      "hello jay your age is 21\n"
     ]
    }
   ],
   "source": [
    "#define a function to have string\n",
    "def stringing():\n",
    "    a = input(str('enter your name:'))\n",
    "    b = input(('enter your age:'))\n",
    "    print(f\"hello {a} your age is {b}\")\n",
    "stringing()"
   ]
  },
  {
   "cell_type": "code",
   "execution_count": 42,
   "id": "67d98bdb",
   "metadata": {},
   "outputs": [
    {
     "name": "stdout",
     "output_type": "stream",
     "text": [
      "10\n"
     ]
    }
   ],
   "source": [
    "#defining a function tocalculate the sum of undefined numbers\n",
    "def adder(a,*b):\n",
    "    c=a\n",
    "    for i in b:\n",
    "        c=c+i\n",
    "    print(c)\n",
    "adder(1,2,3,4)\n",
    "    "
   ]
  },
  {
   "cell_type": "code",
   "execution_count": 47,
   "id": "5047a32a",
   "metadata": {},
   "outputs": [
    {
     "name": "stdout",
     "output_type": "stream",
     "text": [
      "jay\n",
      "{'age': 21, 'city': 'vapi', 'mob': 987983409}\n"
     ]
    }
   ],
   "source": [
    "#defining a function with kwargs and taking inputs\n",
    "def details(name,**data):\n",
    "    print(name)\n",
    "    print(data)\n",
    "details('jay',age = 21,city ='vapi', mob= 987983409)\n",
    "\n"
   ]
  },
  {
   "cell_type": "code",
   "execution_count": 50,
   "id": "45251b5c",
   "metadata": {
    "scrolled": true
   },
   "outputs": [
    {
     "name": "stdout",
     "output_type": "stream",
     "text": [
      "even\n"
     ]
    }
   ],
   "source": [
    "#defining a function to check weather number is odd or even\n",
    "def oe(x):\n",
    "    if (x%2==0):\n",
    "        print('even')\n",
    "    else:\n",
    "        print('odd')\n",
    "        \n",
    "oe(6)\n",
    "    "
   ]
  },
  {
   "cell_type": "code",
   "execution_count": 22,
   "id": "23f92c25",
   "metadata": {},
   "outputs": [
    {
     "name": "stdout",
     "output_type": "stream",
     "text": [
      "even:50\n",
      "odd:50\n"
     ]
    }
   ],
   "source": [
    "# defining a finction to count the number of odd and even numbers\n",
    "def count(lst):\n",
    "    even=0\n",
    "    odd=0\n",
    "    for i in lst:\n",
    "        if i%2==0:\n",
    "            even+=1\n",
    "        else:\n",
    "            odd+=1\n",
    "    return even,odd\n",
    "#lst=[1,2,3,4,5,6,7,8,9,10]\n",
    "lst = [i for i in range(100)]\n",
    "\n",
    "even,odd = count(lst)\n",
    "print(f\"even:{even}\")\n",
    "print(f\"odd:{odd}\")\n",
    "\n",
    "    \n",
    "    \n",
    "    "
   ]
  },
  {
   "cell_type": "code",
   "execution_count": 34,
   "id": "52f70879",
   "metadata": {},
   "outputs": [
    {
     "name": "stdout",
     "output_type": "stream",
     "text": [
      "0\n",
      "1\n",
      "1\n",
      "2\n",
      "3\n",
      "5\n",
      "8\n"
     ]
    }
   ],
   "source": [
    "#defining a function to find the fibbonachi sequence\n",
    "def fib (n):\n",
    "    a = 0\n",
    "    b = 1\n",
    "    \n",
    "    print(a)\n",
    "    print(b)\n",
    "    \n",
    "    for i in range(2,n):\n",
    "        c = a+b\n",
    "        a = b\n",
    "        b = c\n",
    "        print(c)\n",
    "fib(7)"
   ]
  },
  {
   "cell_type": "code",
   "execution_count": 33,
   "id": "7917cbe7",
   "metadata": {},
   "outputs": [
    {
     "name": "stdout",
     "output_type": "stream",
     "text": [
      "1\n",
      "2\n",
      "6\n",
      "24\n",
      "120\n",
      "720\n"
     ]
    }
   ],
   "source": [
    "#defining a function to find the factorial of a given number\n",
    "def fac(n):\n",
    "    a = 1\n",
    "    for i in range(1,n+1):\n",
    "        a=a*i\n",
    "        print(a)\n",
    "fac(6)\n",
    "        "
   ]
  },
  {
   "cell_type": "code",
   "execution_count": 40,
   "id": "efb65988",
   "metadata": {},
   "outputs": [
    {
     "data": {
      "text/plain": [
       "720"
      ]
     },
     "execution_count": 40,
     "metadata": {},
     "output_type": "execute_result"
    }
   ],
   "source": [
    "#finding the factorial of the given number using recursion\n",
    "def fact(n):\n",
    "    if n ==0:\n",
    "        return 1\n",
    "    \n",
    "    return n*fact(n-1)\n",
    "\n",
    "c= fact(6)\n",
    "c\n"
   ]
  },
  {
   "cell_type": "code",
   "execution_count": 1,
   "id": "3e233283",
   "metadata": {},
   "outputs": [
    {
     "name": "stdout",
     "output_type": "stream",
     "text": [
      "25\n"
     ]
    }
   ],
   "source": [
    "#anonymous funcctions or the lambda function\n",
    "f = lambda a : a*a\n",
    "result = f(5)\n",
    "print(result)"
   ]
  },
  {
   "cell_type": "code",
   "execution_count": 2,
   "id": "49016660",
   "metadata": {},
   "outputs": [
    {
     "name": "stdout",
     "output_type": "stream",
     "text": [
      "22\n"
     ]
    }
   ],
   "source": [
    "#lambda function example\n",
    "def func(n):\n",
    "    return lambda a: a*n\n",
    "dou = func(2)\n",
    "print(dou(11))"
   ]
  },
  {
   "cell_type": "code",
   "execution_count": 4,
   "id": "66b2b4d1",
   "metadata": {},
   "outputs": [
    {
     "name": "stdout",
     "output_type": "stream",
     "text": [
      "33\n"
     ]
    }
   ],
   "source": [
    "def func(n):\n",
    "    return lambda a:a*n\n",
    "multiplier = func(3)\n",
    "print(multiplier(11))"
   ]
  },
  {
   "cell_type": "code",
   "execution_count": 15,
   "id": "2f2e762e",
   "metadata": {},
   "outputs": [
    {
     "name": "stdout",
     "output_type": "stream",
     "text": [
      "25\n"
     ]
    }
   ],
   "source": [
    "def fun(n):\n",
    "    return lambda s:5*5\n",
    "tr = fun(5)\n",
    "print(tr(5))\n"
   ]
  },
  {
   "cell_type": "code",
   "execution_count": 17,
   "id": "cb9bcde5",
   "metadata": {},
   "outputs": [
    {
     "name": "stdout",
     "output_type": "stream",
     "text": [
      "[2, 4, 6, 8, 10, 12, 14]\n"
     ]
    }
   ],
   "source": [
    "# filter function example\n",
    "def parity(n):\n",
    "    return n%2 ==0\n",
    "numb = [1,2,3,4,5,6,7,8,9,10,11,12,13,14]\n",
    "eve = list(filter(parity,numb))\n",
    "print(eve)"
   ]
  },
  {
   "cell_type": "code",
   "execution_count": 18,
   "id": "6a0e68ad",
   "metadata": {},
   "outputs": [
    {
     "name": "stdout",
     "output_type": "stream",
     "text": [
      "[2, 4, 6, 8, 10, 12, 14]\n"
     ]
    }
   ],
   "source": [
    "#lambda function with filter function example if the function is not frequently used \n",
    "eeve = list(filter(lambda n: n%2==0,numb))\n",
    "print(eeve)"
   ]
  },
  {
   "cell_type": "code",
   "execution_count": 23,
   "id": "5c107eaa",
   "metadata": {},
   "outputs": [
    {
     "name": "stdout",
     "output_type": "stream",
     "text": [
      "(1, 9, 9, 9, 9, 9, 16, 16)\n"
     ]
    }
   ],
   "source": [
    "#map function \n",
    "n = [1,3,3,3,3,3,4,4]\n",
    "p = tuple(map(lambda n: n*n,n ))\n",
    "print(p)"
   ]
  },
  {
   "cell_type": "code",
   "execution_count": 22,
   "id": "911c8935",
   "metadata": {},
   "outputs": [
    {
     "name": "stdout",
     "output_type": "stream",
     "text": [
      "the primary list: [0, 2, 4, 6, 8, 10]\n",
      "the secondary list: [0, 4, 8, 12, 16, 20]\n"
     ]
    }
   ],
   "source": [
    "#using map function \n",
    "def ren():\n",
    "    n = n*2\n",
    "nn = list(i for i in range(11))\n",
    "ten = list( filter(lambda a:a%2==0,nn))\n",
    "print(f\"the primary list: {ten}\")\n",
    "ren = list(map(lambda a:a*2,ten))\n",
    "print(f\"the secondary list: {ren}\")\n"
   ]
  },
  {
   "cell_type": "code",
   "execution_count": 33,
   "id": "fb4d415a",
   "metadata": {},
   "outputs": [
    {
     "data": {
      "text/plain": [
       "87"
      ]
     },
     "execution_count": 33,
     "metadata": {},
     "output_type": "execute_result"
    }
   ],
   "source": [
    "#the reduce function\n",
    "from functools import *\n",
    "a = (1,2,3,45,6,6,7,8,9)\n",
    "result = reduce(lambda n,m: n+m, a)\n",
    "result\n",
    "\n"
   ]
  },
  {
   "cell_type": "code",
   "execution_count": 34,
   "id": "8aa875ba",
   "metadata": {},
   "outputs": [
    {
     "name": "stdout",
     "output_type": "stream",
     "text": [
      "good morinimg\n",
      "hello world\n",
      "thanks for using this function\n"
     ]
    }
   ],
   "source": [
    "#decorators in function\n",
    "def greet(fx):\n",
    "    def mfx():\n",
    "        print ('good morinimg')\n",
    "        fx()\n",
    "        print('thanks for using this function')\n",
    "    return mfx\n",
    "@greet\n",
    "def hello():\n",
    "    print(\"hello world\")\n",
    "\n",
    "hello()"
   ]
  },
  {
   "cell_type": "code",
   "execution_count": 40,
   "id": "4fd4b180",
   "metadata": {},
   "outputs": [
    {
     "name": "stdout",
     "output_type": "stream",
     "text": [
      "hey dude \n",
      "nothing to worry abour\n",
      "all good!!\n"
     ]
    }
   ],
   "source": [
    "#decorator in python\n",
    "def jay(fx):\n",
    "    def iss():\n",
    "        print('hey dude ')\n",
    "        fx()\n",
    "        print('all good!!')        \n",
    "    return iss\n",
    "@jay\n",
    "def jp():\n",
    "    print('nothing to worry abour')\n",
    "    \n",
    "jp()"
   ]
  },
  {
   "cell_type": "code",
   "execution_count": 43,
   "id": "e7c75d2b",
   "metadata": {},
   "outputs": [
    {
     "ename": "TypeError",
     "evalue": "gg() missing 1 required positional argument: 'b'",
     "output_type": "error",
     "traceback": [
      "\u001b[1;31m---------------------------------------------------------------------------\u001b[0m",
      "\u001b[1;31mTypeError\u001b[0m                                 Traceback (most recent call last)",
      "\u001b[1;32m~\\AppData\\Local\\Temp\\ipykernel_18800\\2772162918.py\u001b[0m in \u001b[0;36m<module>\u001b[1;34m\u001b[0m\n\u001b[0;32m      6\u001b[0m         \u001b[0mprint\u001b[0m\u001b[1;33m(\u001b[0m\u001b[1;34m\"these deocrators are awsome!!!\"\u001b[0m\u001b[1;33m)\u001b[0m\u001b[1;33m\u001b[0m\u001b[1;33m\u001b[0m\u001b[0m\n\u001b[0;32m      7\u001b[0m     \u001b[1;32mreturn\u001b[0m \u001b[0mgg\u001b[0m\u001b[1;33m(\u001b[0m\u001b[0ma\u001b[0m\u001b[1;33m)\u001b[0m\u001b[1;33m\u001b[0m\u001b[1;33m\u001b[0m\u001b[0m\n\u001b[1;32m----> 8\u001b[1;33m \u001b[1;33m@\u001b[0m\u001b[0mtt\u001b[0m\u001b[1;33m\u001b[0m\u001b[1;33m\u001b[0m\u001b[0m\n\u001b[0m\u001b[0;32m      9\u001b[0m \u001b[1;32mdef\u001b[0m \u001b[0mjo\u001b[0m\u001b[1;33m(\u001b[0m\u001b[0ma\u001b[0m\u001b[1;33m,\u001b[0m\u001b[0mb\u001b[0m\u001b[1;33m)\u001b[0m\u001b[1;33m:\u001b[0m\u001b[1;33m\u001b[0m\u001b[1;33m\u001b[0m\u001b[0m\n\u001b[0;32m     10\u001b[0m     \u001b[0mprint\u001b[0m\u001b[1;33m(\u001b[0m\u001b[1;34mf\"the product is {a}\"\u001b[0m\u001b[1;33m)\u001b[0m\u001b[1;33m\u001b[0m\u001b[1;33m\u001b[0m\u001b[0m\n",
      "\u001b[1;32m~\\AppData\\Local\\Temp\\ipykernel_18800\\2772162918.py\u001b[0m in \u001b[0;36mtt\u001b[1;34m(aa)\u001b[0m\n\u001b[0;32m      5\u001b[0m         \u001b[0maa\u001b[0m\u001b[1;33m(\u001b[0m\u001b[1;33m)\u001b[0m\u001b[1;33m\u001b[0m\u001b[1;33m\u001b[0m\u001b[0m\n\u001b[0;32m      6\u001b[0m         \u001b[0mprint\u001b[0m\u001b[1;33m(\u001b[0m\u001b[1;34m\"these deocrators are awsome!!!\"\u001b[0m\u001b[1;33m)\u001b[0m\u001b[1;33m\u001b[0m\u001b[1;33m\u001b[0m\u001b[0m\n\u001b[1;32m----> 7\u001b[1;33m     \u001b[1;32mreturn\u001b[0m \u001b[0mgg\u001b[0m\u001b[1;33m(\u001b[0m\u001b[0ma\u001b[0m\u001b[1;33m)\u001b[0m\u001b[1;33m\u001b[0m\u001b[1;33m\u001b[0m\u001b[0m\n\u001b[0m\u001b[0;32m      8\u001b[0m \u001b[1;33m@\u001b[0m\u001b[0mtt\u001b[0m\u001b[1;33m\u001b[0m\u001b[1;33m\u001b[0m\u001b[0m\n\u001b[0;32m      9\u001b[0m \u001b[1;32mdef\u001b[0m \u001b[0mjo\u001b[0m\u001b[1;33m(\u001b[0m\u001b[0ma\u001b[0m\u001b[1;33m,\u001b[0m\u001b[0mb\u001b[0m\u001b[1;33m)\u001b[0m\u001b[1;33m:\u001b[0m\u001b[1;33m\u001b[0m\u001b[1;33m\u001b[0m\u001b[0m\n",
      "\u001b[1;31mTypeError\u001b[0m: gg() missing 1 required positional argument: 'b'"
     ]
    }
   ],
   "source": [
    "#decorator\n",
    "def tt(aa):\n",
    "    def gg(a,b):\n",
    "        a=a*b\n",
    "        aa()\n",
    "        print(\"these deocrators are awsome!!!\")\n",
    "    return gg(a)\n",
    "@tt\n",
    "def jo(a,b):\n",
    "    print(f\"the product is {a}\")\n",
    "jo()\n",
    "    "
   ]
  },
  {
   "cell_type": "code",
   "execution_count": null,
   "id": "4e7a235a",
   "metadata": {},
   "outputs": [],
   "source": []
  }
 ],
 "metadata": {
  "kernelspec": {
   "display_name": "Python 3 (ipykernel)",
   "language": "python",
   "name": "python3"
  },
  "language_info": {
   "codemirror_mode": {
    "name": "ipython",
    "version": 3
   },
   "file_extension": ".py",
   "mimetype": "text/x-python",
   "name": "python",
   "nbconvert_exporter": "python",
   "pygments_lexer": "ipython3",
   "version": "3.7.16"
  }
 },
 "nbformat": 4,
 "nbformat_minor": 5
}
