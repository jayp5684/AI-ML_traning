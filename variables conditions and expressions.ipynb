{
 "cells": [
  {
   "cell_type": "markdown",
   "id": "199c10bb",
   "metadata": {},
   "source": [
    "# defining functions with local and global variables"
   ]
  },
  {
   "cell_type": "code",
   "execution_count": 42,
   "id": "0778e038",
   "metadata": {},
   "outputs": [
    {
     "name": "stdout",
     "output_type": "stream",
     "text": [
      "wimbelton\n"
     ]
    }
   ],
   "source": [
    "#defining a function\n",
    "def jay():\n",
    "    n = 'wimbelton'\n",
    "    print(n)\n",
    "jay()\n",
    "    "
   ]
  },
  {
   "cell_type": "code",
   "execution_count": 23,
   "id": "6ff40b2e",
   "metadata": {},
   "outputs": [
    {
     "name": "stdout",
     "output_type": "stream",
     "text": [
      "4 in fumction\n",
      "10 out function\n"
     ]
    }
   ],
   "source": [
    "# understanding of loval and global variable \n",
    "a = 10\n",
    "def f():\n",
    "    a = 4\n",
    "    print(a,'in fumction')\n",
    "f()\n",
    "print(a,'out function')\n"
   ]
  },
  {
   "cell_type": "code",
   "execution_count": 35,
   "id": "7ef4d3b0",
   "metadata": {},
   "outputs": [
    {
     "name": "stdout",
     "output_type": "stream",
     "text": [
      "i m jaylol\n",
      "i m jaylol very funny\n",
      "i m jaylol\n"
     ]
    }
   ],
   "source": [
    "def j():\n",
    "    global s\n",
    "    s += 'lol'\n",
    "    print(s)\n",
    "    print(s,'very funny')\n",
    "    \n",
    "    \n",
    "s = \"i m jay\"\n",
    "j()\n",
    "print(s)\n",
    "    \n",
    "    \n"
   ]
  },
  {
   "cell_type": "code",
   "execution_count": 30,
   "id": "d24e1df0",
   "metadata": {},
   "outputs": [
    {
     "name": "stdout",
     "output_type": "stream",
     "text": [
      "i m jaylol\n",
      "very funny\n",
      "very funny\n"
     ]
    }
   ],
   "source": [
    "# global variable used with local variable\n",
    "def j():\n",
    "    global s\n",
    "    s += 'lol'\n",
    "    print(s)\n",
    "    s='very funny'\n",
    "    print(s)\n",
    "\n",
    "    \n",
    "s = \"i m jay\"\n",
    "j()\n",
    "print(s)"
   ]
  },
  {
   "cell_type": "code",
   "execution_count": 34,
   "id": "4360d951",
   "metadata": {},
   "outputs": [
    {
     "name": "stdout",
     "output_type": "stream",
     "text": [
      "30\n"
     ]
    }
   ],
   "source": [
    "#gobal vriable\n",
    "a=14\n",
    "b=16\n",
    "def fg():\n",
    "    c = a+b\n",
    "    print(c)\n",
    "fg()\n"
   ]
  },
  {
   "cell_type": "code",
   "execution_count": 50,
   "id": "0e399394",
   "metadata": {},
   "outputs": [
    {
     "name": "stdout",
     "output_type": "stream",
     "text": [
      "15 in function\n",
      "15 out function\n"
     ]
    }
   ],
   "source": [
    "#changing global variable with the local variable\n",
    "x = 10\n",
    "def nike():\n",
    "    global x\n",
    "    x = x+5\n",
    "    print(x,'in function')\n",
    "    \n",
    "nike()\n",
    "print(x,'out function')\n"
   ]
  },
  {
   "cell_type": "code",
   "execution_count": 61,
   "id": "36a385a6",
   "metadata": {},
   "outputs": [
    {
     "name": "stdout",
     "output_type": "stream",
     "text": [
      "initial list: [11, 2, 3, 4, 5, 6, 7, 8, 9, 10]\n",
      "initial list: [11, 12, 3, 4, 5, 6, 7, 8, 9, 10]\n",
      "initial list: [11, 12, 13, 4, 5, 6, 7, 8, 9, 10]\n",
      "initial list: [11, 12, 13, 14, 5, 6, 7, 8, 9, 10]\n",
      "initial list: [11, 12, 13, 14, 15, 6, 7, 8, 9, 10]\n",
      "initial list: [11, 12, 13, 14, 15, 16, 7, 8, 9, 10]\n",
      "initial list: [11, 12, 13, 14, 15, 16, 17, 8, 9, 10]\n",
      "initial list: [11, 12, 13, 14, 15, 16, 17, 18, 9, 10]\n",
      "initial list: [11, 12, 13, 14, 15, 16, 17, 18, 19, 10]\n",
      "initial list: [11, 12, 13, 14, 15, 16, 17, 18, 19, 20]\n",
      "modified list [11, 12, 13, 14, 15, 16, 17, 18, 19, 20]\n"
     ]
    }
   ],
   "source": [
    "#modifying global objects mutable\n",
    "r = [1,2,3,4,5,6,7,8,9,10]\n",
    "def mod():\n",
    "    for i in range(len(r)):\n",
    "        r[i] += 10\n",
    "        print('initial list:',r)\n",
    "mod()\n",
    "print('modified list',r)\n",
    "    \n",
    "    "
   ]
  },
  {
   "cell_type": "code",
   "execution_count": 76,
   "id": "bdd6e772",
   "metadata": {
    "scrolled": true
   },
   "outputs": [
    {
     "name": "stdout",
     "output_type": "stream",
     "text": [
      "2\n",
      "20\n"
     ]
    }
   ],
   "source": [
    "def one():\n",
    "    x = 2\n",
    "    def two():\n",
    "        global x\n",
    "        x = 20\n",
    "    two()\n",
    "    print(x)\n",
    "one()\n",
    "print(x)"
   ]
  },
  {
   "cell_type": "markdown",
   "id": "c8e0b127",
   "metadata": {},
   "source": [
    "# if else loop"
   ]
  },
  {
   "cell_type": "code",
   "execution_count": 11,
   "id": "00f3517a",
   "metadata": {},
   "outputs": [
    {
     "name": "stdout",
     "output_type": "stream",
     "text": [
      "the number are n0t divisible.\n"
     ]
    }
   ],
   "source": [
    "#basic if else loop\n",
    "def cd(a,b):\n",
    "    if a%b ==0:\n",
    "        print('the nunber is divisible.')\n",
    "    else:\n",
    "        print('the number are n0t divisible.')\n",
    "            \n",
    "cd(4,3)"
   ]
  },
  {
   "cell_type": "markdown",
   "id": "72e025f5",
   "metadata": {},
   "source": [
    "#Equals: a == b\n",
    "#Not Equals: a != b\n",
    "#Less than: a < b\n",
    "#Less than or equal to: a <= b\n",
    "#Greater than: a > b\n",
    "#Greater than or equal to: a >= b"
   ]
  },
  {
   "cell_type": "code",
   "execution_count": 85,
   "id": "74b85c91",
   "metadata": {},
   "outputs": [
    {
     "name": "stdout",
     "output_type": "stream",
     "text": [
      "smaller\n"
     ]
    }
   ],
   "source": [
    "#bsic if else loop \n",
    "a=2\n",
    "b=3\n",
    "if a>b :\n",
    "    print('greater') \n",
    "elif a<b :\n",
    "    print('smaller')\n",
    "else:\n",
    "    print('equal')"
   ]
  },
  {
   "cell_type": "code",
   "execution_count": 87,
   "id": "2b6d8a8e",
   "metadata": {},
   "outputs": [
    {
     "name": "stdout",
     "output_type": "stream",
     "text": [
      "smaller\n"
     ]
    }
   ],
   "source": [
    "#short hnd methord \n",
    "a = 3\n",
    "b = 5\n",
    "if(a<b):print('smaller')\n",
    "elif(a>b):print('greater')\n",
    "else:print('equal')"
   ]
  },
  {
   "cell_type": "code",
   "execution_count": null,
   "id": "e65c6119",
   "metadata": {},
   "outputs": [],
   "source": [
    "# and helps in inclusing two conditions\n",
    "a = 200\n",
    "b=4\n",
    "c=5\n",
    "if a>b"
   ]
  },
  {
   "cell_type": "raw",
   "id": "cdc2bd7a",
   "metadata": {},
   "source": [
    "# *args: allows the non key worded argument.\n",
    "**kawgs:allws the variable key worded arguments.\n"
   ]
  },
  {
   "cell_type": "code",
   "execution_count": 93,
   "id": "ac23d72e",
   "metadata": {},
   "outputs": [
    {
     "name": "stdout",
     "output_type": "stream",
     "text": [
      "1 2 4 5\n"
     ]
    }
   ],
   "source": [
    "#unpacking the lists\n",
    "def fun(a,b,c,d):\n",
    "    print(a,b,c,d)\n",
    "    \n",
    "list22 = [1,2,4,5]\n",
    "fun(*list22)"
   ]
  },
  {
   "cell_type": "markdown",
   "id": "cc2703ba",
   "metadata": {},
   "source": [
    "# args and kwargs"
   ]
  },
  {
   "cell_type": "code",
   "execution_count": 95,
   "id": "7eb1d168",
   "metadata": {},
   "outputs": [
    {
     "name": "stdout",
     "output_type": "stream",
     "text": [
      "15\n"
     ]
    }
   ],
   "source": [
    "#adding args with function\n",
    "def adding(*args):\n",
    "    return sum(args)\n",
    "print(adding(1,2,3,4,5))"
   ]
  },
  {
   "cell_type": "code",
   "execution_count": 4,
   "id": "0e4bc880",
   "metadata": {},
   "outputs": [
    {
     "name": "stdout",
     "output_type": "stream",
     "text": [
      "list is as follows\n",
      "jay\n",
      "meet\n",
      "sameer\n",
      "darsh\n",
      "raj\n"
     ]
    }
   ],
   "source": [
    "#understanding of args\n",
    "def function(*args):\n",
    "    print(text)\n",
    "    for item in args:\n",
    "        print(item)\n",
    "list1 = ('jay','meet','sameer','darsh','raj')\n",
    "text = 'list is as follows' \n",
    "function(*list1)"
   ]
  },
  {
   "cell_type": "code",
   "execution_count": 25,
   "id": "f555030a",
   "metadata": {},
   "outputs": [
    {
     "name": "stdout",
     "output_type": "stream",
     "text": [
      "('j', 'k', 'd', 'f')\n"
     ]
    }
   ],
   "source": [
    "#understanding kwargs \n",
    "def fun(*arg):\n",
    "    for ar in arg:\n",
    "        print(ar)\n",
    "ji=('j','k','d','f')\n",
    "fun(ji)\n",
    "    "
   ]
  },
  {
   "cell_type": "code",
   "execution_count": 21,
   "id": "3ec5b1db",
   "metadata": {},
   "outputs": [
    {
     "name": "stdout",
     "output_type": "stream",
     "text": [
      "{'jay': 'awsome', 'meet': 'cool'}\n"
     ]
    }
   ],
   "source": [
    "print(kwargs)"
   ]
  },
  {
   "cell_type": "code",
   "execution_count": null,
   "id": "8a3b586e",
   "metadata": {},
   "outputs": [],
   "source": []
  },
  {
   "cell_type": "code",
   "execution_count": null,
   "id": "3fe6fd75",
   "metadata": {},
   "outputs": [],
   "source": []
  }
 ],
 "metadata": {
  "kernelspec": {
   "display_name": "Python 3 (ipykernel)",
   "language": "python",
   "name": "python3"
  },
  "language_info": {
   "codemirror_mode": {
    "name": "ipython",
    "version": 3
   },
   "file_extension": ".py",
   "mimetype": "text/x-python",
   "name": "python",
   "nbconvert_exporter": "python",
   "pygments_lexer": "ipython3",
   "version": "3.7.16"
  }
 },
 "nbformat": 4,
 "nbformat_minor": 5
}
